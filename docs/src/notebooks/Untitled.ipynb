{
 "cells": [
  {
   "cell_type": "code",
   "execution_count": 1,
   "id": "4c25eb9d-9e05-4133-927e-747516cb9310",
   "metadata": {},
   "outputs": [],
   "source": [
    "import lancedb\n",
    "import pandas as pd\n",
    "from pathlib import Path\n",
    "from random import sample\n",
    "\n",
    "from lancedb.embeddings import OpenClipEmbeddingFunction\n",
    "from lancedb.pydantic import LanceModel, vector"
   ]
  },
  {
   "cell_type": "code",
   "execution_count": 2,
   "id": "cfd43f8d-1ff4-44b2-a206-eedc2e162ce4",
   "metadata": {},
   "outputs": [],
   "source": [
    "p = Path(\"/Users/changshe/Downloads/images\")\n",
    "uris = [str(f) for f in p.iterdir()]\n",
    "uris = sample(uris, 1000)"
   ]
  },
  {
   "cell_type": "code",
   "execution_count": 3,
   "id": "d4bcd5f5-29a2-4b81-9262-852ef456db9f",
   "metadata": {},
   "outputs": [],
   "source": [
    "func = OpenClipEmbeddingFunction(source_column=\"image_uri\", \n",
    "                                 vector_column=\"vector\")"
   ]
  },
  {
   "cell_type": "code",
   "execution_count": 4,
   "id": "e570ce41-8dcd-449e-975a-fb39639eb1a8",
   "metadata": {},
   "outputs": [],
   "source": [
    "class MyModel(LanceModel):\n",
    "    vector: vector(512)\n",
    "    image_uri: str"
   ]
  },
  {
   "cell_type": "code",
   "execution_count": 5,
   "id": "b7ac00f9-0c4d-43f2-bf0b-89221cf9fbb1",
   "metadata": {},
   "outputs": [],
   "source": [
    "db = lancedb.connect(\"~/.lancedb\")\n",
    "db.drop_table(\"pets\", ignore_missing=True)\n",
    "table = db.create_table(\"pets\", schema=MyModel, \n",
    "                        embedding_functions=[func])"
   ]
  },
  {
   "cell_type": "code",
   "execution_count": 6,
   "id": "a6d54265-43fc-4c5c-91f7-bd16e5703347",
   "metadata": {},
   "outputs": [],
   "source": [
    "table.add(pd.DataFrame({\"image_uri\": uris}))"
   ]
  },
  {
   "cell_type": "code",
   "execution_count": null,
   "id": "d88c6664-638f-4c9a-be18-434e38168061",
   "metadata": {},
   "outputs": [],
   "source": []
  },
  {
   "cell_type": "code",
   "execution_count": null,
   "id": "8dc886e8-c6bc-4db9-a4ad-02fdb1a9b6e2",
   "metadata": {},
   "outputs": [],
   "source": []
  }
 ],
 "metadata": {
  "kernelspec": {
   "display_name": "Python 3 (ipykernel)",
   "language": "python",
   "name": "python3"
  },
  "language_info": {
   "codemirror_mode": {
    "name": "ipython",
    "version": 3
   },
   "file_extension": ".py",
   "mimetype": "text/x-python",
   "name": "python",
   "nbconvert_exporter": "python",
   "pygments_lexer": "ipython3",
   "version": "3.11.3"
  }
 },
 "nbformat": 4,
 "nbformat_minor": 5
}
