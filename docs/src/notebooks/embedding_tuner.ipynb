{
  "cells": [
    {
      "cell_type": "markdown",
      "metadata": {
        "id": "rYMbEXANHZ0B"
      },
      "source": [
        "# Improve retrieval performance by Fine-tuning embedding model\n",
        "\n",
        "Another way to improve retriever performance is to fine-tune the embedding model itself. Fine-tuning the embedding model can help in learning better representations for the documents and queries in the dataset. This can be particularly useful when the dataset is very different from the pre-trained data used to train the embedding model."
      ]
    },
    {
      "cell_type": "code",
      "execution_count": 2,
      "metadata": {
        "colab": {
          "base_uri": "https://localhost:8080/"
        },
        "collapsed": true,
        "id": "6T7bwebVquFE",
        "outputId": "86bc6c9c-e188-4618-c1c5-676d84e2a2ee"
      },
      "outputs": [
        {
          "name": "stdout",
          "output_type": "stream",
          "text": [
            "\u001b[2K     \u001b[90m━━━━━━━━━━━━━━━━━━━━━━━━━━━━━━━━━━━━━━━━\u001b[0m \u001b[32m38.9/38.9 MB\u001b[0m \u001b[31m17.7 MB/s\u001b[0m eta \u001b[36m0:00:00\u001b[0m\n",
            "\u001b[2K     \u001b[90m━━━━━━━━━━━━━━━━━━━━━━━━━━━━━━━━━━━━━━━━\u001b[0m \u001b[32m15.4/15.4 MB\u001b[0m \u001b[31m83.5 MB/s\u001b[0m eta \u001b[36m0:00:00\u001b[0m\n",
            "\u001b[2K     \u001b[90m━━━━━━━━━━━━━━━━━━━━━━━━━━━━━━━━━━━━━━━━\u001b[0m \u001b[32m171.5/171.5 kB\u001b[0m \u001b[31m29.3 MB/s\u001b[0m eta \u001b[36m0:00:00\u001b[0m\n",
            "\u001b[2K     \u001b[90m━━━━━━━━━━━━━━━━━━━━━━━━━━━━━━━━━━━━━━━━\u001b[0m \u001b[32m290.4/290.4 kB\u001b[0m \u001b[31m39.2 MB/s\u001b[0m eta \u001b[36m0:00:00\u001b[0m\n",
            "\u001b[2K     \u001b[90m━━━━━━━━━━━━━━━━━━━━━━━━━━━━━━━━━━━━━━━━\u001b[0m \u001b[32m20.9/20.9 MB\u001b[0m \u001b[31m54.8 MB/s\u001b[0m eta \u001b[36m0:00:00\u001b[0m\n",
            "\u001b[2K     \u001b[90m━━━━━━━━━━━━━━━━━━━━━━━━━━━━━━━━━━━━━━━━\u001b[0m \u001b[32m4.5/4.5 MB\u001b[0m \u001b[31m55.7 MB/s\u001b[0m eta \u001b[36m0:00:00\u001b[0m\n",
            "\u001b[2K     \u001b[90m━━━━━━━━━━━━━━━━━━━━━━━━━━━━━━━━━━━━━━━━\u001b[0m \u001b[32m853.2/853.2 kB\u001b[0m \u001b[31m55.5 MB/s\u001b[0m eta \u001b[36m0:00:00\u001b[0m\n",
            "\u001b[2K     \u001b[90m━━━━━━━━━━━━━━━━━━━━━━━━━━━━━━━━━━━━━━━━\u001b[0m \u001b[32m25.5/25.5 MB\u001b[0m \u001b[31m17.4 MB/s\u001b[0m eta \u001b[36m0:00:00\u001b[0m\n",
            "\u001b[2K     \u001b[90m━━━━━━━━━━━━━━━━━━━━━━━━━━━━━━━━━━━━━━━━\u001b[0m \u001b[32m75.6/75.6 kB\u001b[0m \u001b[31m8.5 MB/s\u001b[0m eta \u001b[36m0:00:00\u001b[0m\n",
            "\u001b[2K     \u001b[90m━━━━━━━━━━━━━━━━━━━━━━━━━━━━━━━━━━━━━━━━\u001b[0m \u001b[32m130.8/130.8 kB\u001b[0m \u001b[31m23.0 MB/s\u001b[0m eta \u001b[36m0:00:00\u001b[0m\n",
            "\u001b[2K     \u001b[90m━━━━━━━━━━━━━━━━━━━━━━━━━━━━━━━━━━━━━━━━\u001b[0m \u001b[32m328.4/328.4 kB\u001b[0m \u001b[31m31.4 MB/s\u001b[0m eta \u001b[36m0:00:00\u001b[0m\n",
            "\u001b[2K     \u001b[90m━━━━━━━━━━━━━━━━━━━━━━━━━━━━━━━━━━━━━━━━\u001b[0m \u001b[32m1.1/1.1 MB\u001b[0m \u001b[31m66.4 MB/s\u001b[0m eta \u001b[36m0:00:00\u001b[0m\n",
            "\u001b[2K     \u001b[90m━━━━━━━━━━━━━━━━━━━━━━━━━━━━━━━━━━━━━━━━\u001b[0m \u001b[32m410.7/410.7 kB\u001b[0m \u001b[31m24.9 MB/s\u001b[0m eta \u001b[36m0:00:00\u001b[0m\n",
            "\u001b[2K     \u001b[90m━━━━━━━━━━━━━━━━━━━━━━━━━━━━━━━━━━━━━━━━\u001b[0m \u001b[32m173.8/173.8 kB\u001b[0m \u001b[31m26.8 MB/s\u001b[0m eta \u001b[36m0:00:00\u001b[0m\n",
            "\u001b[2K     \u001b[90m━━━━━━━━━━━━━━━━━━━━━━━━━━━━━━━━━━━━━━━━\u001b[0m \u001b[32m139.2/139.2 kB\u001b[0m \u001b[31m22.1 MB/s\u001b[0m eta \u001b[36m0:00:00\u001b[0m\n",
            "\u001b[2K     \u001b[90m━━━━━━━━━━━━━━━━━━━━━━━━━━━━━━━━━━━━━━━━\u001b[0m \u001b[32m3.1/3.1 MB\u001b[0m \u001b[31m112.6 MB/s\u001b[0m eta \u001b[36m0:00:00\u001b[0m\n",
            "\u001b[2K     \u001b[90m━━━━━━━━━━━━━━━━━━━━━━━━━━━━━━━━━━━━━━━━\u001b[0m \u001b[32m137.6/137.6 kB\u001b[0m \u001b[31m24.2 MB/s\u001b[0m eta \u001b[36m0:00:00\u001b[0m\n",
            "\u001b[2K     \u001b[90m━━━━━━━━━━━━━━━━━━━━━━━━━━━━━━━━━━━━━━━━\u001b[0m \u001b[32m77.9/77.9 kB\u001b[0m \u001b[31m14.4 MB/s\u001b[0m eta \u001b[36m0:00:00\u001b[0m\n",
            "\u001b[2K     \u001b[90m━━━━━━━━━━━━━━━━━━━━━━━━━━━━━━━━━━━━━━━━\u001b[0m \u001b[32m58.3/58.3 kB\u001b[0m \u001b[31m11.2 MB/s\u001b[0m eta \u001b[36m0:00:00\u001b[0m\n",
            "\u001b[2K     \u001b[90m━━━━━━━━━━━━━━━━━━━━━━━━━━━━━━━━━━━━━━━━\u001b[0m \u001b[32m141.1/141.1 kB\u001b[0m \u001b[31m22.4 MB/s\u001b[0m eta \u001b[36m0:00:00\u001b[0m\n",
            "\u001b[2K     \u001b[90m━━━━━━━━━━━━━━━━━━━━━━━━━━━━━━━━━━━━━━━━\u001b[0m \u001b[32m98.7/98.7 kB\u001b[0m \u001b[31m16.5 MB/s\u001b[0m eta \u001b[36m0:00:00\u001b[0m\n",
            "\u001b[2K     \u001b[90m━━━━━━━━━━━━━━━━━━━━━━━━━━━━━━━━━━━━━━━━\u001b[0m \u001b[32m21.3/21.3 MB\u001b[0m \u001b[31m67.1 MB/s\u001b[0m eta \u001b[36m0:00:00\u001b[0m\n",
            "\u001b[2K     \u001b[90m━━━━━━━━━━━━━━━━━━━━━━━━━━━━━━━━━━━━━━━━\u001b[0m \u001b[32m49.2/49.2 kB\u001b[0m \u001b[31m7.5 MB/s\u001b[0m eta \u001b[36m0:00:00\u001b[0m\n",
            "\u001b[2K     \u001b[90m━━━━━━━━━━━━━━━━━━━━━━━━━━━━━━━━━━━━━━━━\u001b[0m \u001b[32m12.4/12.4 MB\u001b[0m \u001b[31m89.5 MB/s\u001b[0m eta \u001b[36m0:00:00\u001b[0m\n",
            "\u001b[2K     \u001b[90m━━━━━━━━━━━━━━━━━━━━━━━━━━━━━━━━━━━━━━━━\u001b[0m \u001b[32m82.7/82.7 kB\u001b[0m \u001b[31m14.5 MB/s\u001b[0m eta \u001b[36m0:00:00\u001b[0m\n",
            "\u001b[?25h\u001b[31mERROR: pip's dependency resolver does not currently take into account all the packages that are installed. This behaviour is the source of the following dependency conflicts.\n",
            "cudf-cu12 24.4.1 requires pyarrow<15.0.0a0,>=14.0.1, but you have pyarrow 12.0.1 which is incompatible.\u001b[0m\u001b[31m\n",
            "\u001b[0m"
          ]
        }
      ],
      "source": [
        "%pip install llama-index-llms-openai llama-index-embeddings-openai llama-index-finetuning llama-index-readers-file scikit-learn llama-index-embeddings-huggingface llama-index-vector-stores-lancedb pyarrow==12.0.1 -qq"
      ]
    },
    {
      "cell_type": "code",
      "execution_count": 2,
      "metadata": {
        "colab": {
          "base_uri": "https://localhost:8080/"
        },
        "id": "6RRNyCDJDEcQ",
        "outputId": "c5be266c-d63d-4ab2-c913-2187fad375a0"
      },
      "outputs": [
        {
          "name": "stdout",
          "output_type": "stream",
          "text": [
            "Cloning into 'ragged'...\n",
            "remote: Enumerating objects: 160, done.\u001b[K\n",
            "remote: Counting objects: 100% (160/160), done.\u001b[K\n",
            "remote: Compressing objects: 100% (103/103), done.\u001b[K\n",
            "remote: Total 160 (delta 70), reused 125 (delta 41), pack-reused 0\u001b[K\n",
            "Receiving objects: 100% (160/160), 38.15 KiB | 5.45 MiB/s, done.\n",
            "Resolving deltas: 100% (70/70), done.\n",
            "Processing /content/ragged\n",
            "  Installing build dependencies ... \u001b[?25l\u001b[?25hdone\n",
            "  Getting requirements to build wheel ... \u001b[?25l\u001b[?25hdone\n",
            "  Preparing metadata (pyproject.toml) ... \u001b[?25l\u001b[?25hdone\n",
            "Collecting datasets (from ragged==0.1.dev0)\n",
            "  Downloading datasets-2.20.0-py3-none-any.whl (547 kB)\n",
            "\u001b[2K     \u001b[90m━━━━━━━━━━━━━━━━━━━━━━━━━━━━━━━━━━━━━━━━\u001b[0m \u001b[32m547.8/547.8 kB\u001b[0m \u001b[31m6.4 MB/s\u001b[0m eta \u001b[36m0:00:00\u001b[0m\n",
            "\u001b[?25hRequirement already satisfied: lancedb in /usr/local/lib/python3.10/dist-packages (from ragged==0.1.dev0) (0.9.0)\n",
            "Requirement already satisfied: pandas in /usr/local/lib/python3.10/dist-packages (from ragged==0.1.dev0) (2.0.3)\n",
            "Collecting streamlit (from ragged==0.1.dev0)\n",
            "  Downloading streamlit-1.36.0-py2.py3-none-any.whl (8.6 MB)\n",
            "\u001b[2K     \u001b[90m━━━━━━━━━━━━━━━━━━━━━━━━━━━━━━━━━━━━━━━━\u001b[0m \u001b[32m8.6/8.6 MB\u001b[0m \u001b[31m30.1 MB/s\u001b[0m eta \u001b[36m0:00:00\u001b[0m\n",
            "\u001b[?25hRequirement already satisfied: tantivy in /usr/local/lib/python3.10/dist-packages (from ragged==0.1.dev0) (0.22.0)\n",
            "Requirement already satisfied: filelock in /usr/local/lib/python3.10/dist-packages (from datasets->ragged==0.1.dev0) (3.15.4)\n",
            "Requirement already satisfied: numpy>=1.17 in /usr/local/lib/python3.10/dist-packages (from datasets->ragged==0.1.dev0) (1.25.2)\n",
            "Collecting pyarrow>=15.0.0 (from datasets->ragged==0.1.dev0)\n",
            "  Downloading pyarrow-16.1.0-cp310-cp310-manylinux_2_28_x86_64.whl (40.8 MB)\n",
            "\u001b[2K     \u001b[90m━━━━━━━━━━━━━━━━━━━━━━━━━━━━━━━━━━━━━━━━\u001b[0m \u001b[32m40.8/40.8 MB\u001b[0m \u001b[31m22.7 MB/s\u001b[0m eta \u001b[36m0:00:00\u001b[0m\n",
            "\u001b[?25hRequirement already satisfied: pyarrow-hotfix in /usr/local/lib/python3.10/dist-packages (from datasets->ragged==0.1.dev0) (0.6)\n",
            "Collecting dill<0.3.9,>=0.3.0 (from datasets->ragged==0.1.dev0)\n",
            "  Downloading dill-0.3.8-py3-none-any.whl (116 kB)\n",
            "\u001b[2K     \u001b[90m━━━━━━━━━━━━━━━━━━━━━━━━━━━━━━━━━━━━━━━━\u001b[0m \u001b[32m116.3/116.3 kB\u001b[0m \u001b[31m17.5 MB/s\u001b[0m eta \u001b[36m0:00:00\u001b[0m\n",
            "\u001b[?25hCollecting requests>=2.32.2 (from datasets->ragged==0.1.dev0)\n",
            "  Downloading requests-2.32.3-py3-none-any.whl (64 kB)\n",
            "\u001b[2K     \u001b[90m━━━━━━━━━━━━━━━━━━━━━━━━━━━━━━━━━━━━━━━━\u001b[0m \u001b[32m64.9/64.9 kB\u001b[0m \u001b[31m9.1 MB/s\u001b[0m eta \u001b[36m0:00:00\u001b[0m\n",
            "\u001b[?25hRequirement already satisfied: tqdm>=4.66.3 in /usr/local/lib/python3.10/dist-packages (from datasets->ragged==0.1.dev0) (4.66.4)\n",
            "Collecting xxhash (from datasets->ragged==0.1.dev0)\n",
            "  Downloading xxhash-3.4.1-cp310-cp310-manylinux_2_17_x86_64.manylinux2014_x86_64.whl (194 kB)\n",
            "\u001b[2K     \u001b[90m━━━━━━━━━━━━━━━━━━━━━━━━━━━━━━━━━━━━━━━━\u001b[0m \u001b[32m194.1/194.1 kB\u001b[0m \u001b[31m25.9 MB/s\u001b[0m eta \u001b[36m0:00:00\u001b[0m\n",
            "\u001b[?25hCollecting multiprocess (from datasets->ragged==0.1.dev0)\n",
            "  Downloading multiprocess-0.70.16-py310-none-any.whl (134 kB)\n",
            "\u001b[2K     \u001b[90m━━━━━━━━━━━━━━━━━━━━━━━━━━━━━━━━━━━━━━━━\u001b[0m \u001b[32m134.8/134.8 kB\u001b[0m \u001b[31m19.4 MB/s\u001b[0m eta \u001b[36m0:00:00\u001b[0m\n",
            "\u001b[?25hRequirement already satisfied: fsspec[http]<=2024.5.0,>=2023.1.0 in /usr/local/lib/python3.10/dist-packages (from datasets->ragged==0.1.dev0) (2023.6.0)\n",
            "Requirement already satisfied: aiohttp in /usr/local/lib/python3.10/dist-packages (from datasets->ragged==0.1.dev0) (3.9.5)\n",
            "Requirement already satisfied: huggingface-hub>=0.21.2 in /usr/local/lib/python3.10/dist-packages (from datasets->ragged==0.1.dev0) (0.23.4)\n",
            "Requirement already satisfied: packaging in /usr/local/lib/python3.10/dist-packages (from datasets->ragged==0.1.dev0) (24.1)\n",
            "Requirement already satisfied: pyyaml>=5.1 in /usr/local/lib/python3.10/dist-packages (from datasets->ragged==0.1.dev0) (6.0.1)\n",
            "Requirement already satisfied: deprecation in /usr/local/lib/python3.10/dist-packages (from lancedb->ragged==0.1.dev0) (2.1.0)\n",
            "Requirement already satisfied: pylance==0.13.0 in /usr/local/lib/python3.10/dist-packages (from lancedb->ragged==0.1.dev0) (0.13.0)\n",
            "Requirement already satisfied: ratelimiter~=1.0 in /usr/local/lib/python3.10/dist-packages (from lancedb->ragged==0.1.dev0) (1.2.0.post0)\n",
            "Requirement already satisfied: retry>=0.9.2 in /usr/local/lib/python3.10/dist-packages (from lancedb->ragged==0.1.dev0) (0.9.2)\n",
            "Requirement already satisfied: pydantic>=1.10 in /usr/local/lib/python3.10/dist-packages (from lancedb->ragged==0.1.dev0) (2.8.0)\n",
            "Requirement already satisfied: attrs>=21.3.0 in /usr/local/lib/python3.10/dist-packages (from lancedb->ragged==0.1.dev0) (23.2.0)\n",
            "Requirement already satisfied: cachetools in /usr/local/lib/python3.10/dist-packages (from lancedb->ragged==0.1.dev0) (5.3.3)\n",
            "Requirement already satisfied: overrides>=0.7 in /usr/local/lib/python3.10/dist-packages (from lancedb->ragged==0.1.dev0) (7.7.0)\n",
            "Collecting pyarrow>=15.0.0 (from datasets->ragged==0.1.dev0)\n",
            "  Downloading pyarrow-15.0.0-cp310-cp310-manylinux_2_28_x86_64.whl (38.3 MB)\n",
            "\u001b[2K     \u001b[90m━━━━━━━━━━━━━━━━━━━━━━━━━━━━━━━━━━━━━━━━\u001b[0m \u001b[32m38.3/38.3 MB\u001b[0m \u001b[31m19.8 MB/s\u001b[0m eta \u001b[36m0:00:00\u001b[0m\n",
            "\u001b[?25hRequirement already satisfied: python-dateutil>=2.8.2 in /usr/local/lib/python3.10/dist-packages (from pandas->ragged==0.1.dev0) (2.8.2)\n",
            "Requirement already satisfied: pytz>=2020.1 in /usr/local/lib/python3.10/dist-packages (from pandas->ragged==0.1.dev0) (2023.4)\n",
            "Requirement already satisfied: tzdata>=2022.1 in /usr/local/lib/python3.10/dist-packages (from pandas->ragged==0.1.dev0) (2024.1)\n",
            "Requirement already satisfied: altair<6,>=4.0 in /usr/local/lib/python3.10/dist-packages (from streamlit->ragged==0.1.dev0) (4.2.2)\n",
            "Requirement already satisfied: blinker<2,>=1.0.0 in /usr/lib/python3/dist-packages (from streamlit->ragged==0.1.dev0) (1.4)\n",
            "Requirement already satisfied: click<9,>=7.0 in /usr/local/lib/python3.10/dist-packages (from streamlit->ragged==0.1.dev0) (8.1.7)\n",
            "Requirement already satisfied: pillow<11,>=7.1.0 in /usr/local/lib/python3.10/dist-packages (from streamlit->ragged==0.1.dev0) (9.4.0)\n",
            "Requirement already satisfied: protobuf<6,>=3.20 in /usr/local/lib/python3.10/dist-packages (from streamlit->ragged==0.1.dev0) (3.20.3)\n",
            "Requirement already satisfied: rich<14,>=10.14.0 in /usr/local/lib/python3.10/dist-packages (from streamlit->ragged==0.1.dev0) (13.7.1)\n",
            "Requirement already satisfied: tenacity<9,>=8.1.0 in /usr/local/lib/python3.10/dist-packages (from streamlit->ragged==0.1.dev0) (8.3.0)\n",
            "Requirement already satisfied: toml<2,>=0.10.1 in /usr/local/lib/python3.10/dist-packages (from streamlit->ragged==0.1.dev0) (0.10.2)\n",
            "Requirement already satisfied: typing-extensions<5,>=4.3.0 in /usr/local/lib/python3.10/dist-packages (from streamlit->ragged==0.1.dev0) (4.12.2)\n",
            "Collecting gitpython!=3.1.19,<4,>=3.0.7 (from streamlit->ragged==0.1.dev0)\n",
            "  Downloading GitPython-3.1.43-py3-none-any.whl (207 kB)\n",
            "\u001b[2K     \u001b[90m━━━━━━━━━━━━━━━━━━━━━━━━━━━━━━━━━━━━━━━━\u001b[0m \u001b[32m207.3/207.3 kB\u001b[0m \u001b[31m28.0 MB/s\u001b[0m eta \u001b[36m0:00:00\u001b[0m\n",
            "\u001b[?25hCollecting pydeck<1,>=0.8.0b4 (from streamlit->ragged==0.1.dev0)\n",
            "  Downloading pydeck-0.9.1-py2.py3-none-any.whl (6.9 MB)\n",
            "\u001b[2K     \u001b[90m━━━━━━━━━━━━━━━━━━━━━━━━━━━━━━━━━━━━━━━━\u001b[0m \u001b[32m6.9/6.9 MB\u001b[0m \u001b[31m105.6 MB/s\u001b[0m eta \u001b[36m0:00:00\u001b[0m\n",
            "\u001b[?25hRequirement already satisfied: tornado<7,>=6.0.3 in /usr/local/lib/python3.10/dist-packages (from streamlit->ragged==0.1.dev0) (6.3.3)\n",
            "Collecting watchdog<5,>=2.1.5 (from streamlit->ragged==0.1.dev0)\n",
            "  Downloading watchdog-4.0.1-py3-none-manylinux2014_x86_64.whl (83 kB)\n",
            "\u001b[2K     \u001b[90m━━━━━━━━━━━━━━━━━━━━━━━━━━━━━━━━━━━━━━━━\u001b[0m \u001b[32m83.0/83.0 kB\u001b[0m \u001b[31m8.7 MB/s\u001b[0m eta \u001b[36m0:00:00\u001b[0m\n",
            "\u001b[?25hRequirement already satisfied: entrypoints in /usr/local/lib/python3.10/dist-packages (from altair<6,>=4.0->streamlit->ragged==0.1.dev0) (0.4)\n",
            "Requirement already satisfied: jinja2 in /usr/local/lib/python3.10/dist-packages (from altair<6,>=4.0->streamlit->ragged==0.1.dev0) (3.1.4)\n",
            "Requirement already satisfied: jsonschema>=3.0 in /usr/local/lib/python3.10/dist-packages (from altair<6,>=4.0->streamlit->ragged==0.1.dev0) (4.19.2)\n",
            "Requirement already satisfied: toolz in /usr/local/lib/python3.10/dist-packages (from altair<6,>=4.0->streamlit->ragged==0.1.dev0) (0.12.1)\n",
            "Requirement already satisfied: aiosignal>=1.1.2 in /usr/local/lib/python3.10/dist-packages (from aiohttp->datasets->ragged==0.1.dev0) (1.3.1)\n",
            "Requirement already satisfied: frozenlist>=1.1.1 in /usr/local/lib/python3.10/dist-packages (from aiohttp->datasets->ragged==0.1.dev0) (1.4.1)\n",
            "Requirement already satisfied: multidict<7.0,>=4.5 in /usr/local/lib/python3.10/dist-packages (from aiohttp->datasets->ragged==0.1.dev0) (6.0.5)\n",
            "Requirement already satisfied: yarl<2.0,>=1.0 in /usr/local/lib/python3.10/dist-packages (from aiohttp->datasets->ragged==0.1.dev0) (1.9.4)\n",
            "Requirement already satisfied: async-timeout<5.0,>=4.0 in /usr/local/lib/python3.10/dist-packages (from aiohttp->datasets->ragged==0.1.dev0) (4.0.3)\n",
            "Collecting gitdb<5,>=4.0.1 (from gitpython!=3.1.19,<4,>=3.0.7->streamlit->ragged==0.1.dev0)\n",
            "  Downloading gitdb-4.0.11-py3-none-any.whl (62 kB)\n",
            "\u001b[2K     \u001b[90m━━━━━━━━━━━━━━━━━━━━━━━━━━━━━━━━━━━━━━━━\u001b[0m \u001b[32m62.7/62.7 kB\u001b[0m \u001b[31m9.4 MB/s\u001b[0m eta \u001b[36m0:00:00\u001b[0m\n",
            "\u001b[?25hRequirement already satisfied: annotated-types>=0.4.0 in /usr/local/lib/python3.10/dist-packages (from pydantic>=1.10->lancedb->ragged==0.1.dev0) (0.7.0)\n",
            "Requirement already satisfied: pydantic-core==2.20.0 in /usr/local/lib/python3.10/dist-packages (from pydantic>=1.10->lancedb->ragged==0.1.dev0) (2.20.0)\n",
            "Requirement already satisfied: six>=1.5 in /usr/local/lib/python3.10/dist-packages (from python-dateutil>=2.8.2->pandas->ragged==0.1.dev0) (1.16.0)\n",
            "Requirement already satisfied: charset-normalizer<4,>=2 in /usr/local/lib/python3.10/dist-packages (from requests>=2.32.2->datasets->ragged==0.1.dev0) (3.3.2)\n",
            "Requirement already satisfied: idna<4,>=2.5 in /usr/local/lib/python3.10/dist-packages (from requests>=2.32.2->datasets->ragged==0.1.dev0) (3.7)\n",
            "Requirement already satisfied: urllib3<3,>=1.21.1 in /usr/local/lib/python3.10/dist-packages (from requests>=2.32.2->datasets->ragged==0.1.dev0) (2.0.7)\n",
            "Requirement already satisfied: certifi>=2017.4.17 in /usr/local/lib/python3.10/dist-packages (from requests>=2.32.2->datasets->ragged==0.1.dev0) (2024.6.2)\n",
            "Requirement already satisfied: decorator>=3.4.2 in /usr/local/lib/python3.10/dist-packages (from retry>=0.9.2->lancedb->ragged==0.1.dev0) (4.4.2)\n",
            "Requirement already satisfied: py<2.0.0,>=1.4.26 in /usr/local/lib/python3.10/dist-packages (from retry>=0.9.2->lancedb->ragged==0.1.dev0) (1.11.0)\n",
            "Requirement already satisfied: markdown-it-py>=2.2.0 in /usr/local/lib/python3.10/dist-packages (from rich<14,>=10.14.0->streamlit->ragged==0.1.dev0) (3.0.0)\n",
            "Requirement already satisfied: pygments<3.0.0,>=2.13.0 in /usr/local/lib/python3.10/dist-packages (from rich<14,>=10.14.0->streamlit->ragged==0.1.dev0) (2.16.1)\n",
            "Collecting smmap<6,>=3.0.1 (from gitdb<5,>=4.0.1->gitpython!=3.1.19,<4,>=3.0.7->streamlit->ragged==0.1.dev0)\n",
            "  Downloading smmap-5.0.1-py3-none-any.whl (24 kB)\n",
            "Requirement already satisfied: MarkupSafe>=2.0 in /usr/local/lib/python3.10/dist-packages (from jinja2->altair<6,>=4.0->streamlit->ragged==0.1.dev0) (2.1.5)\n",
            "Requirement already satisfied: jsonschema-specifications>=2023.03.6 in /usr/local/lib/python3.10/dist-packages (from jsonschema>=3.0->altair<6,>=4.0->streamlit->ragged==0.1.dev0) (2023.12.1)\n",
            "Requirement already satisfied: referencing>=0.28.4 in /usr/local/lib/python3.10/dist-packages (from jsonschema>=3.0->altair<6,>=4.0->streamlit->ragged==0.1.dev0) (0.35.1)\n",
            "Requirement already satisfied: rpds-py>=0.7.1 in /usr/local/lib/python3.10/dist-packages (from jsonschema>=3.0->altair<6,>=4.0->streamlit->ragged==0.1.dev0) (0.18.1)\n",
            "Requirement already satisfied: mdurl~=0.1 in /usr/local/lib/python3.10/dist-packages (from markdown-it-py>=2.2.0->rich<14,>=10.14.0->streamlit->ragged==0.1.dev0) (0.1.2)\n",
            "Building wheels for collected packages: ragged\n",
            "  Building wheel for ragged (pyproject.toml) ... \u001b[?25l\u001b[?25hdone\n",
            "  Created wheel for ragged: filename=ragged-0.1.dev0-py3-none-any.whl size=24662 sha256=d086741b289188a92153223fdb65db69f9297a523c7874746fd1669f7d3f9c07\n",
            "  Stored in directory: /tmp/pip-ephem-wheel-cache-r8sy12qi/wheels/aa/3f/b0/d70e6f86074491db9b0bc7431c11f0138f2ed2359151509cf7\n",
            "Successfully built ragged\n",
            "Installing collected packages: xxhash, watchdog, smmap, requests, pyarrow, dill, pydeck, multiprocess, gitdb, gitpython, datasets, streamlit, ragged\n",
            "  Attempting uninstall: requests\n",
            "    Found existing installation: requests 2.31.0\n",
            "    Uninstalling requests-2.31.0:\n",
            "      Successfully uninstalled requests-2.31.0\n",
            "  Attempting uninstall: pyarrow\n",
            "    Found existing installation: pyarrow 13.0.0\n",
            "    Uninstalling pyarrow-13.0.0:\n",
            "      Successfully uninstalled pyarrow-13.0.0\n",
            "\u001b[31mERROR: pip's dependency resolver does not currently take into account all the packages that are installed. This behaviour is the source of the following dependency conflicts.\n",
            "cudf-cu12 24.4.1 requires pyarrow<15.0.0a0,>=14.0.1, but you have pyarrow 15.0.0 which is incompatible.\n",
            "google-colab 1.0.0 requires requests==2.31.0, but you have requests 2.32.3 which is incompatible.\u001b[0m\u001b[31m\n",
            "\u001b[0mSuccessfully installed datasets-2.20.0 dill-0.3.8 gitdb-4.0.11 gitpython-3.1.43 multiprocess-0.70.16 pyarrow-15.0.0 pydeck-0.9.1 ragged-0.1.dev0 requests-2.32.3 smmap-5.0.1 streamlit-1.36.0 watchdog-4.0.1 xxhash-3.4.1\n"
          ]
        }
      ],
      "source": [
        "# For eval utils\n",
        "!git clone https://github.com/lancedb/ragged.git\n",
        "!cd ragged && pip install .\n"
      ]
    },
    {
      "cell_type": "markdown",
      "metadata": {
        "id": "B_2S_b0c3pdp"
      },
      "source": [
        "## The dataset\n",
        "The dataset we'll use is a synthetic QA dataset generated from LLama2 review paper. The paper was divided into chunks, with each chunk being a unique context. An LLM was prompted to ask questions relevant to the context for testing a retreiver.\n",
        "The exact code and other utility functions for this can be found in [this](https://github.com/lancedb/ragged) repo\n"
      ]
    },
    {
      "cell_type": "code",
      "execution_count": 3,
      "metadata": {
        "colab": {
          "base_uri": "https://localhost:8080/"
        },
        "id": "4QFDh3jD3d1X",
        "outputId": "94198dab-34af-47b2-db20-f2cddcca8bad"
      },
      "outputs": [
        {
          "name": "stdout",
          "output_type": "stream",
          "text": [
            "--2024-07-09 14:17:49--  https://raw.githubusercontent.com/AyushExel/assets/main/data_qa.csv\n",
            "Resolving raw.githubusercontent.com (raw.githubusercontent.com)... 185.199.108.133, 185.199.109.133, 185.199.110.133, ...\n",
            "Connecting to raw.githubusercontent.com (raw.githubusercontent.com)|185.199.108.133|:443... connected.\n",
            "HTTP request sent, awaiting response... 200 OK\n",
            "Length: 680439 (664K) [text/plain]\n",
            "Saving to: ‘data_qa.csv’\n",
            "\n",
            "\rdata_qa.csv           0%[                    ]       0  --.-KB/s               \rdata_qa.csv         100%[===================>] 664.49K  --.-KB/s    in 0.04s   \n",
            "\n",
            "2024-07-09 14:17:49 (17.6 MB/s) - ‘data_qa.csv’ saved [680439/680439]\n",
            "\n"
          ]
        }
      ],
      "source": [
        "!wget https://raw.githubusercontent.com/AyushExel/assets/main/data_qa.csv"
      ]
    },
    {
      "cell_type": "code",
      "execution_count": 1,
      "metadata": {
        "id": "AIF2zczc3kwW"
      },
      "outputs": [],
      "source": [
        "import pandas as pd\n",
        "\n",
        "data = pd.read_csv(\"data_qa.csv\")"
      ]
    },
    {
      "cell_type": "markdown",
      "metadata": {
        "id": "_xV40VSy3twE"
      },
      "source": [
        "## Pre-processing\n",
        "Now we need to parse the context(corpus) of the dataset as llama-index text nodes.  "
      ]
    },
    {
      "cell_type": "code",
      "execution_count": 2,
      "metadata": {
        "id": "mzDZYUX4qxBC"
      },
      "outputs": [],
      "source": [
        "from pathlib import Path\n",
        "from llama_index.core.node_parser import SentenceSplitter\n",
        "from llama_index.readers.file import PagedCSVReader\n",
        "\n",
        "def load_corpus(file, verbose=False):\n",
        "    if verbose:\n",
        "        print(f\"Loading files {file}...\")\n",
        "\n",
        "    loader = PagedCSVReader(encoding=\"utf-8\")\n",
        "    docs = loader.load_data(file=Path(file))\n",
        "\n",
        "    if verbose:\n",
        "        print(f\"Loaded {len(docs)} docs\")\n",
        "\n",
        "    parser = SentenceSplitter()\n",
        "    nodes = parser.get_nodes_from_documents(docs, show_progress=verbose)\n",
        "\n",
        "    if verbose:\n",
        "        print(f\"Parsed {len(nodes)} nodes\")\n",
        "\n",
        "    return nodes"
      ]
    },
    {
      "cell_type": "code",
      "execution_count": 3,
      "metadata": {
        "id": "eoLOdNO-4HbV"
      },
      "outputs": [],
      "source": [
        "import pandas as pd\n",
        "\n",
        "df = pd.read_csv(\"data_qa.csv\", index_col=0)"
      ]
    },
    {
      "cell_type": "code",
      "execution_count": 4,
      "metadata": {
        "id": "EqsFZ5KYqzvg"
      },
      "outputs": [],
      "source": [
        "import os\n",
        "\n",
        "os.environ[\"OPENAI_API_KEY\"] = \"sk-...\""
      ]
    },
    {
      "cell_type": "markdown",
      "metadata": {
        "id": "zrwa35x96FLZ"
      },
      "source": [
        "Split into train and validation sets. We'll use the original df for val as that has different queries generated via a different prompt.\n"
      ]
    },
    {
      "cell_type": "code",
      "execution_count": 5,
      "metadata": {
        "id": "diHhY9Ipq9Uw"
      },
      "outputs": [],
      "source": [
        "from sklearn.model_selection import train_test_split\n",
        "\n",
        "# Randomly shuffle df\n",
        "df = df.sample(frac=1, random_state=42)\n",
        "\n",
        "train_df, val_df = train_test_split(df, test_size=0.2, random_state=42)\n",
        "\n",
        "train_df.to_csv(\"train_data_qa.csv\", index=False)\n",
        "val_df.to_csv(\"val_data_qa.csv\", index=False)"
      ]
    },
    {
      "cell_type": "code",
      "execution_count": 6,
      "metadata": {
        "colab": {
          "base_uri": "https://localhost:8080/",
          "height": 188,
          "referenced_widgets": [
            "bec98f8b088645f78e9bdbfa2dd41eca",
            "d75c86cf55094487bf0a512eef0b2e8d",
            "ea02cfaa688449ab968fb4b680d93061",
            "508b9005ecca47ae853ee6da41a11104",
            "082e5e30a07b4d6c85761394ec16ee9b",
            "fc5f7aa7be464b1fb65b141f6023faab",
            "1888b5162e874cd2995a3c6fee976641",
            "c5fe37ad69e94af8ad4447008702d208",
            "66f6f703459c43d6adffe3514a3c208c",
            "99079a51abb343bfbaf731eba9c8c819",
            "175a94c6202742ae90a1e108e4752abb",
            "754d900d3c5f4781b715f511e53782e1",
            "286a2f28fed94364b6f5e00b0847d6b6",
            "98c53f0377d64fa5be146535441a8062",
            "aafbadb049f64cedb970aaec495da665",
            "90d3541a766f434886d36a25b86819c3",
            "bf553de829784633aefd794196573ebc",
            "e766b6694bed44b499485f1796aab2d7",
            "dfd6273b9876462b8b5df152954cbad5",
            "ea872f06942746f0b6b6caeb8b10dbfb",
            "0f2671ee4af74c9ab5f62c625204e483",
            "b4c546dd70564b94962472f8a66bb2b1"
          ]
        },
        "id": "C7PKGtXPq_Fc",
        "outputId": "ff03254b-b8b6-4093-881c-fec3ced96d31"
      },
      "outputs": [
        {
          "name": "stdout",
          "output_type": "stream",
          "text": [
            "Loading files train_data_qa.csv...\n",
            "Loaded 176 docs\n"
          ]
        },
        {
          "data": {
            "application/vnd.jupyter.widget-view+json": {
              "model_id": "bec98f8b088645f78e9bdbfa2dd41eca",
              "version_major": 2,
              "version_minor": 0
            },
            "text/plain": [
              "Parsing nodes:   0%|          | 0/176 [00:00<?, ?it/s]"
            ]
          },
          "metadata": {},
          "output_type": "display_data"
        },
        {
          "name": "stdout",
          "output_type": "stream",
          "text": [
            "Parsed 227 nodes\n",
            "Loading files val_data_qa.csv...\n",
            "Loaded 44 docs\n"
          ]
        },
        {
          "data": {
            "application/vnd.jupyter.widget-view+json": {
              "model_id": "754d900d3c5f4781b715f511e53782e1",
              "version_major": 2,
              "version_minor": 0
            },
            "text/plain": [
              "Parsing nodes:   0%|          | 0/44 [00:00<?, ?it/s]"
            ]
          },
          "metadata": {},
          "output_type": "display_data"
        },
        {
          "name": "stdout",
          "output_type": "stream",
          "text": [
            "Parsed 53 nodes\n"
          ]
        }
      ],
      "source": [
        "train_nodes = load_corpus(\"train_data_qa.csv\", verbose=True)\n",
        "val_nodes = load_corpus(\"val_data_qa.csv\", verbose=True)"
      ]
    },
    {
      "cell_type": "markdown",
      "metadata": {
        "id": "zMUSQPmkIu9N"
      },
      "source": [
        "### Generate the query from context from training\n"
      ]
    },
    {
      "cell_type": "code",
      "execution_count": 7,
      "metadata": {
        "id": "oPBGWH2or8_T"
      },
      "outputs": [],
      "source": [
        "from llama_index.finetuning import generate_qa_embedding_pairs\n",
        "from llama_index.core.evaluation import EmbeddingQAFinetuneDataset"
      ]
    },
    {
      "cell_type": "code",
      "execution_count": 8,
      "metadata": {
        "colab": {
          "base_uri": "https://localhost:8080/"
        },
        "id": "VKLRRVzBr_dc",
        "outputId": "d839139f-d321-455a-a7b5-d02610a5fb9e"
      },
      "outputs": [
        {
          "name": "stderr",
          "output_type": "stream",
          "text": [
            "227it [00:00, ?it/s]\n",
            "227it [00:00, ?it/s]\n"
          ]
        }
      ],
      "source": [
        "from llama_index.llms.openai import OpenAI\n",
        "\n",
        "\n",
        "train_dataset = generate_qa_embedding_pairs(\n",
        "    llm=OpenAI(model=\"gpt-3.5-turbo\"), nodes=train_nodes, verbose=False\n",
        ")\n",
        "val_dataset = generate_qa_embedding_pairs(\n",
        "    llm=OpenAI(model=\"gpt-3.5-turbo\"), nodes=val_nodes, verbose=False\n",
        ")\n",
        "\n",
        "train_dataset.save_json(\"train_dataset.json\")\n",
        "val_dataset.save_json(\"val_dataset.json\")"
      ]
    },
    {
      "cell_type": "code",
      "execution_count": 9,
      "metadata": {
        "id": "cAFS_uZ-sThk"
      },
      "outputs": [],
      "source": [
        "# Load again\n",
        "train_dataset = EmbeddingQAFinetuneDataset.from_json(\"train_dataset.json\")\n",
        "\n",
        "val_dataset = EmbeddingQAFinetuneDataset.from_json(\"val_dataset.json\")"
      ]
    },
    {
      "cell_type": "markdown",
      "metadata": {
        "id": "GeOJCE51I2ay"
      },
      "source": [
        "## Fine-tune the embedding model"
      ]
    },
    {
      "cell_type": "code",
      "execution_count": 10,
      "metadata": {
        "colab": {
          "base_uri": "https://localhost:8080/"
        },
        "id": "9qDt2sH8sXYd",
        "outputId": "a94bc3e4-2103-411f-99d3-c394f4fba12e"
      },
      "outputs": [
        {
          "name": "stderr",
          "output_type": "stream",
          "text": [
            "/usr/local/lib/python3.10/dist-packages/huggingface_hub/utils/_token.py:89: UserWarning: \n",
            "The secret `HF_TOKEN` does not exist in your Colab secrets.\n",
            "To authenticate with the Hugging Face Hub, create a token in your settings tab (https://huggingface.co/settings/tokens), set it as secret in your Google Colab and restart your session.\n",
            "You will be able to reuse this secret in all of your notebooks.\n",
            "Please note that authentication is recommended but still optional to access public models or datasets.\n",
            "  warnings.warn(\n",
            "/usr/local/lib/python3.10/dist-packages/huggingface_hub/file_download.py:1132: FutureWarning: `resume_download` is deprecated and will be removed in version 1.0.0. Downloads always resume when possible. If you want to force a new download, use `force_download=True`.\n",
            "  warnings.warn(\n"
          ]
        }
      ],
      "source": [
        "import torch\n",
        "from llama_index.finetuning import SentenceTransformersFinetuneEngine\n",
        "\n",
        "device = torch.device(\"cuda\" if torch.cuda.is_available() else \"cpu\")\n",
        "\n",
        "finetune_engine = SentenceTransformersFinetuneEngine(\n",
        "    train_dataset,\n",
        "    model_id=\"BAAI/bge-small-en-v1.5\",\n",
        "    model_output_path=\"tuned_model\",\n",
        "    val_dataset=val_dataset,\n",
        "    device=device\n",
        ")"
      ]
    },
    {
      "cell_type": "code",
      "execution_count": 11,
      "metadata": {
        "colab": {
          "base_uri": "https://localhost:8080/",
          "height": 113,
          "referenced_widgets": [
            "78b8de3cfcb941399a6577694f1c374b",
            "9b3731b3cfc645f889cd3159bdb563cd",
            "ea2f88ecbb564d60baef9c4de72258be",
            "3c6f7be8b9784620a49f5d49027d1a7c",
            "9260b59e3ff24c48ad01db65cd1fc45d",
            "84c8bca94def4d4cb81a5f0999dc9c5d",
            "6668295301ac4188b92e788ca3d8700c",
            "19eb003fb0324d1591855bbadeae2c89",
            "b9413803b32d4fe4aa329b12b59cd7b0",
            "ff142b346ae34ffcb64e47700c54d044",
            "1b388ad506b6485fa5b644cc22c4f86e",
            "addc62a0713f4294836a24c1b0332ff6",
            "6bf99f68d2f44afe9d103c2047d1d3c6",
            "060978a1983741d68dd72a02620cfc90",
            "2eff26884fb24deeadd8c2f06561659c",
            "100eebca28bc43e2b849377373a62e56",
            "4b4619ec0d9e45808c096b9f736ca338",
            "54b698e4b0084090b39508dd61307f31",
            "479c481558454295908fbaa81ff04030",
            "9a9663dbb0174389bb729ffb8cb6e7e4",
            "5af7dc4a52a8429fb54001ce4c1499c7",
            "86a9e2da73eb4e7eb246f4c18032f2fe",
            "d7415182f689485c9426522697e4fa25",
            "76ddc2a42ed348bebccd52bec1b8fdde",
            "cb2c776996c84b41816d0f02c05805f7",
            "e7f301b5f9244dd3be9fe5c38c2f4893",
            "d33b9d5de4bc4fff8625bcb61314ae14",
            "e944059805414ea48652a547042e22b8",
            "4ce578e6db9e4355835dad88dbb6ca65",
            "f868548c72414ecda166abcec3b3dcaa",
            "3f8b1031aa7d4474916437c87894ef0c",
            "0ea215e233fc42aabffae049461f8f84",
            "8a95dd189a2b4dd4bb356abd6cfaae01"
          ]
        },
        "id": "mkUNUehKsatO",
        "outputId": "ff67edd9-5ad3-4d01-821c-049cfd025afb"
      },
      "outputs": [
        {
          "data": {
            "application/vnd.jupyter.widget-view+json": {
              "model_id": "78b8de3cfcb941399a6577694f1c374b",
              "version_major": 2,
              "version_minor": 0
            },
            "text/plain": [
              "Epoch:   0%|          | 0/2 [00:00<?, ?it/s]"
            ]
          },
          "metadata": {},
          "output_type": "display_data"
        },
        {
          "data": {
            "application/vnd.jupyter.widget-view+json": {
              "model_id": "addc62a0713f4294836a24c1b0332ff6",
              "version_major": 2,
              "version_minor": 0
            },
            "text/plain": [
              "Iteration:   0%|          | 0/46 [00:00<?, ?it/s]"
            ]
          },
          "metadata": {},
          "output_type": "display_data"
        },
        {
          "data": {
            "application/vnd.jupyter.widget-view+json": {
              "model_id": "d7415182f689485c9426522697e4fa25",
              "version_major": 2,
              "version_minor": 0
            },
            "text/plain": [
              "Iteration:   0%|          | 0/46 [00:00<?, ?it/s]"
            ]
          },
          "metadata": {},
          "output_type": "display_data"
        }
      ],
      "source": [
        "finetune_engine.finetune( )\n"
      ]
    },
    {
      "cell_type": "code",
      "execution_count": 12,
      "metadata": {
        "id": "VaSa6IMksbvg"
      },
      "outputs": [],
      "source": [
        "embed_model = finetune_engine.get_finetuned_model()\n"
      ]
    },
    {
      "cell_type": "markdown",
      "metadata": {
        "id": "8OsyCxqGI6_y"
      },
      "source": [
        "## Evaluate on Hit-rate\n"
      ]
    },
    {
      "cell_type": "code",
      "execution_count": 13,
      "metadata": {
        "id": "AAyIXEXwse8F"
      },
      "outputs": [],
      "source": [
        "from ragged.dataset import CSVDataset, SquadDataset\n",
        "from ragged.rag import llamaIndexRAG\n",
        "from ragged.metrics.retriever.hit_rate import HitRate\n",
        "from ragged.search_utils import QueryType\n",
        "\n",
        "\n",
        "def evaluate_vector(\n",
        "    dataset,\n",
        "    embed_model_name_or_path,\n",
        "    top_k=5,\n",
        "):\n",
        "  dataset = CSVDataset(dataset)\n",
        "\n",
        "  hit_rate = HitRate(dataset, embed_model_kwarg={\"name\": embed_model_name_or_path})\n",
        "\n",
        "  print(hit_rate.evaluate(top_k, query_type=QueryType.VECTOR))\n",
        "\n",
        "\n",
        "def evaluate_all(\n",
        "    dataset,\n",
        "    embed_model_name_or_path,\n",
        "    reranker,\n",
        "    top_k=5,\n",
        "):\n",
        "  dataset = CSVDataset(dataset)\n",
        "  hit_rate = HitRate(dataset, embed_model_kwarg={\"name\": embed_model_name_or_path}, reranker=reranker)\n",
        "\n",
        "  print(hit_rate.evaluate(top_k, query_type=QueryType.ALL))\n"
      ]
    },
    {
      "cell_type": "code",
      "execution_count": 14,
      "metadata": {
        "id": "0wOmiZG9sgzg"
      },
      "outputs": [],
      "source": [
        "from sentence_transformers.evaluation import InformationRetrievalEvaluator\n",
        "from sentence_transformers import SentenceTransformer\n",
        "from pathlib import Path\n",
        "\n",
        "\n",
        "def evaluate_IR(\n",
        "    dataset,\n",
        "    model_id,\n",
        "    name,\n",
        "):\n",
        "    corpus = dataset.corpus\n",
        "    queries = dataset.queries\n",
        "    relevant_docs = dataset.relevant_docs\n",
        "\n",
        "    output_path = \"./results/\"\n",
        "    Path(output_path).mkdir(exist_ok=True, parents=True)\n",
        "\n",
        "    evaluator = InformationRetrievalEvaluator(queries, corpus, relevant_docs, name=name)\n",
        "    model = SentenceTransformer(model_id)\n",
        "\n",
        "    return evaluator(model, output_path=output_path)"
      ]
    },
    {
      "cell_type": "code",
      "execution_count": 15,
      "metadata": {
        "colab": {
          "base_uri": "https://localhost:8080/"
        },
        "id": "7_lm0QsI0CMG",
        "outputId": "a3dfa3a8-c268-4695-96a4-6d30b7fa06bd"
      },
      "outputs": [
        {
          "name": "stderr",
          "output_type": "stream",
          "text": [
            "INFO:lancedb:Adding 110 documents to LanceDB, in 1 batches of size 110\n"
          ]
        },
        {
          "name": "stdout",
          "output_type": "stream",
          "text": [
            "Adding 110 documents to LanceDB, in 1 batches of size 110\n"
          ]
        },
        {
          "name": "stderr",
          "output_type": "stream",
          "text": [
            "Adding batch to LanceDB: 100%|██████████| 110/110 [00:00<00:00, 159810.68it/s]\n",
            "INFO:lancedb:Adding batch 0 to LanceDB\n"
          ]
        },
        {
          "name": "stdout",
          "output_type": "stream",
          "text": [
            "Adding batch 0 to LanceDB\n"
          ]
        },
        {
          "name": "stderr",
          "output_type": "stream",
          "text": [
            "INFO:lancedb:created table with length 110\n"
          ]
        },
        {
          "name": "stdout",
          "output_type": "stream",
          "text": [
            "created table with length 110\n"
          ]
        },
        {
          "name": "stderr",
          "output_type": "stream",
          "text": [
            "INFO:lancedb:Evaluating query type: vector\n"
          ]
        },
        {
          "name": "stdout",
          "output_type": "stream",
          "text": [
            "Evaluating query type: vector\n"
          ]
        },
        {
          "name": "stderr",
          "output_type": "stream",
          "text": [
            "100%|██████████| 220/220 [00:09<00:00, 23.49it/s]\n",
            "INFO:lancedb:Hit rate for vector: 0.6409090909090909\n"
          ]
        },
        {
          "name": "stdout",
          "output_type": "stream",
          "text": [
            "Hit rate for vector: 0.6409090909090909\n"
          ]
        },
        {
          "name": "stderr",
          "output_type": "stream",
          "text": [
            "INFO:lancedb:Evaluating query type: fts\n"
          ]
        },
        {
          "name": "stdout",
          "output_type": "stream",
          "text": [
            "Evaluating query type: fts\n"
          ]
        },
        {
          "name": "stderr",
          "output_type": "stream",
          "text": [
            "100%|██████████| 220/220 [00:00<00:00, 352.60it/s]\n",
            "INFO:lancedb:Hit rate for fts: 0.5954545454545455\n"
          ]
        },
        {
          "name": "stdout",
          "output_type": "stream",
          "text": [
            "Hit rate for fts: 0.5954545454545455\n"
          ]
        },
        {
          "name": "stderr",
          "output_type": "stream",
          "text": [
            "INFO:lancedb:Evaluating query type: rerank_vector\n"
          ]
        },
        {
          "name": "stdout",
          "output_type": "stream",
          "text": [
            "Evaluating query type: rerank_vector\n"
          ]
        },
        {
          "name": "stderr",
          "output_type": "stream",
          "text": [
            "100%|██████████| 220/220 [01:04<00:00,  3.43it/s]\n",
            "INFO:lancedb:Hit rate for rerank_vector: 0.6772727272727272\n"
          ]
        },
        {
          "name": "stdout",
          "output_type": "stream",
          "text": [
            "Hit rate for rerank_vector: 0.6772727272727272\n"
          ]
        },
        {
          "name": "stderr",
          "output_type": "stream",
          "text": [
            "INFO:lancedb:Evaluating query type: rerank_fts\n"
          ]
        },
        {
          "name": "stdout",
          "output_type": "stream",
          "text": [
            "Evaluating query type: rerank_fts\n"
          ]
        },
        {
          "name": "stderr",
          "output_type": "stream",
          "text": [
            "100%|██████████| 220/220 [01:12<00:00,  3.05it/s]\n",
            "INFO:lancedb:Hit rate for rerank_fts: 0.6727272727272727\n"
          ]
        },
        {
          "name": "stdout",
          "output_type": "stream",
          "text": [
            "Hit rate for rerank_fts: 0.6727272727272727\n"
          ]
        },
        {
          "name": "stderr",
          "output_type": "stream",
          "text": [
            "INFO:lancedb:Evaluating query type: hybrid\n"
          ]
        },
        {
          "name": "stdout",
          "output_type": "stream",
          "text": [
            "Evaluating query type: hybrid\n"
          ]
        },
        {
          "name": "stderr",
          "output_type": "stream",
          "text": [
            "\r  0%|          | 0/220 [00:00<?, ?it/s]/usr/local/lib/python3.10/dist-packages/lancedb/rerankers/cohere.py:88: FutureWarning: promote has been superseded by promote_options='default'.\n",
            "  combined_results = self.merge_results(vector_results, fts_results)\n",
            "  0%|          | 1/220 [00:00<00:46,  4.74it/s]/usr/local/lib/python3.10/dist-packages/lancedb/rerankers/cohere.py:88: FutureWarning: promote has been superseded by promote_options='default'.\n",
            "  combined_results = self.merge_results(vector_results, fts_results)\n",
            "  1%|          | 2/220 [00:00<00:45,  4.80it/s]/usr/local/lib/python3.10/dist-packages/lancedb/rerankers/cohere.py:88: FutureWarning: promote has been superseded by promote_options='default'.\n",
            "  combined_results = self.merge_results(vector_results, fts_results)\n",
            "  1%|▏         | 3/220 [00:00<00:43,  5.00it/s]/usr/local/lib/python3.10/dist-packages/lancedb/rerankers/cohere.py:88: FutureWarning: promote has been superseded by promote_options='default'.\n",
            "  combined_results = self.merge_results(vector_results, fts_results)\n",
            "  2%|▏         | 4/220 [00:00<00:42,  5.10it/s]/usr/local/lib/python3.10/dist-packages/lancedb/rerankers/cohere.py:88: FutureWarning: promote has been superseded by promote_options='default'.\n",
            "  combined_results = self.merge_results(vector_results, fts_results)\n",
            "  2%|▏         | 5/220 [00:01<00:43,  4.92it/s]/usr/local/lib/python3.10/dist-packages/lancedb/rerankers/cohere.py:88: FutureWarning: promote has been superseded by promote_options='default'.\n",
            "  combined_results = self.merge_results(vector_results, fts_results)\n",
            "  3%|▎         | 6/220 [00:01<00:44,  4.83it/s]/usr/local/lib/python3.10/dist-packages/lancedb/rerankers/cohere.py:88: FutureWarning: promote has been superseded by promote_options='default'.\n",
            "  combined_results = self.merge_results(vector_results, fts_results)\n",
            "  3%|▎         | 7/220 [00:01<00:44,  4.83it/s]/usr/local/lib/python3.10/dist-packages/lancedb/rerankers/cohere.py:88: FutureWarning: promote has been superseded by promote_options='default'.\n",
            "  combined_results = self.merge_results(vector_results, fts_results)\n",
            "  4%|▎         | 8/220 [00:01<00:43,  4.83it/s]/usr/local/lib/python3.10/dist-packages/lancedb/rerankers/cohere.py:88: FutureWarning: promote has been superseded by promote_options='default'.\n",
            "  combined_results = self.merge_results(vector_results, fts_results)\n",
            "  4%|▍         | 9/220 [00:01<00:43,  4.86it/s]/usr/local/lib/python3.10/dist-packages/lancedb/rerankers/cohere.py:88: FutureWarning: promote has been superseded by promote_options='default'.\n",
            "  combined_results = self.merge_results(vector_results, fts_results)\n",
            "  5%|▍         | 10/220 [00:02<00:43,  4.86it/s]/usr/local/lib/python3.10/dist-packages/lancedb/rerankers/cohere.py:88: FutureWarning: promote has been superseded by promote_options='default'.\n",
            "  combined_results = self.merge_results(vector_results, fts_results)\n",
            "  5%|▌         | 11/220 [00:02<00:42,  4.96it/s]/usr/local/lib/python3.10/dist-packages/lancedb/rerankers/cohere.py:88: FutureWarning: promote has been superseded by promote_options='default'.\n",
            "  combined_results = self.merge_results(vector_results, fts_results)\n",
            "  5%|▌         | 12/220 [00:02<00:41,  4.97it/s]/usr/local/lib/python3.10/dist-packages/lancedb/rerankers/cohere.py:88: FutureWarning: promote has been superseded by promote_options='default'.\n",
            "  combined_results = self.merge_results(vector_results, fts_results)\n",
            "  6%|▌         | 13/220 [00:02<00:41,  4.98it/s]/usr/local/lib/python3.10/dist-packages/lancedb/rerankers/cohere.py:88: FutureWarning: promote has been superseded by promote_options='default'.\n",
            "  combined_results = self.merge_results(vector_results, fts_results)\n",
            "  6%|▋         | 14/220 [00:02<00:49,  4.19it/s]/usr/local/lib/python3.10/dist-packages/lancedb/rerankers/cohere.py:88: FutureWarning: promote has been superseded by promote_options='default'.\n",
            "  combined_results = self.merge_results(vector_results, fts_results)\n",
            "  7%|▋         | 15/220 [00:03<01:03,  3.21it/s]/usr/local/lib/python3.10/dist-packages/lancedb/rerankers/cohere.py:88: FutureWarning: promote has been superseded by promote_options='default'.\n",
            "  combined_results = self.merge_results(vector_results, fts_results)\n",
            "  7%|▋         | 16/220 [00:03<01:13,  2.79it/s]/usr/local/lib/python3.10/dist-packages/lancedb/rerankers/cohere.py:88: FutureWarning: promote has been superseded by promote_options='default'.\n",
            "  combined_results = self.merge_results(vector_results, fts_results)\n",
            "  8%|▊         | 17/220 [00:04<01:03,  3.19it/s]/usr/local/lib/python3.10/dist-packages/lancedb/rerankers/cohere.py:88: FutureWarning: promote has been superseded by promote_options='default'.\n",
            "  combined_results = self.merge_results(vector_results, fts_results)\n",
            "  8%|▊         | 18/220 [00:04<00:57,  3.51it/s]/usr/local/lib/python3.10/dist-packages/lancedb/rerankers/cohere.py:88: FutureWarning: promote has been superseded by promote_options='default'.\n",
            "  combined_results = self.merge_results(vector_results, fts_results)\n",
            "  9%|▊         | 19/220 [00:04<00:55,  3.61it/s]/usr/local/lib/python3.10/dist-packages/lancedb/rerankers/cohere.py:88: FutureWarning: promote has been superseded by promote_options='default'.\n",
            "  combined_results = self.merge_results(vector_results, fts_results)\n",
            "  9%|▉         | 20/220 [00:04<00:51,  3.88it/s]/usr/local/lib/python3.10/dist-packages/lancedb/rerankers/cohere.py:88: FutureWarning: promote has been superseded by promote_options='default'.\n",
            "  combined_results = self.merge_results(vector_results, fts_results)\n",
            " 10%|▉         | 21/220 [00:05<00:49,  4.02it/s]/usr/local/lib/python3.10/dist-packages/lancedb/rerankers/cohere.py:88: FutureWarning: promote has been superseded by promote_options='default'.\n",
            "  combined_results = self.merge_results(vector_results, fts_results)\n",
            " 10%|█         | 22/220 [00:05<00:49,  4.03it/s]/usr/local/lib/python3.10/dist-packages/lancedb/rerankers/cohere.py:88: FutureWarning: promote has been superseded by promote_options='default'.\n",
            "  combined_results = self.merge_results(vector_results, fts_results)\n",
            " 10%|█         | 23/220 [00:05<00:45,  4.32it/s]/usr/local/lib/python3.10/dist-packages/lancedb/rerankers/cohere.py:88: FutureWarning: promote has been superseded by promote_options='default'.\n",
            "  combined_results = self.merge_results(vector_results, fts_results)\n",
            " 11%|█         | 24/220 [00:05<00:43,  4.49it/s]/usr/local/lib/python3.10/dist-packages/lancedb/rerankers/cohere.py:88: FutureWarning: promote has been superseded by promote_options='default'.\n",
            "  combined_results = self.merge_results(vector_results, fts_results)\n",
            " 11%|█▏        | 25/220 [00:05<00:43,  4.53it/s]/usr/local/lib/python3.10/dist-packages/lancedb/rerankers/cohere.py:88: FutureWarning: promote has been superseded by promote_options='default'.\n",
            "  combined_results = self.merge_results(vector_results, fts_results)\n",
            " 12%|█▏        | 26/220 [00:06<00:41,  4.68it/s]/usr/local/lib/python3.10/dist-packages/lancedb/rerankers/cohere.py:88: FutureWarning: promote has been superseded by promote_options='default'.\n",
            "  combined_results = self.merge_results(vector_results, fts_results)\n",
            " 12%|█▏        | 27/220 [00:06<00:39,  4.85it/s]/usr/local/lib/python3.10/dist-packages/lancedb/rerankers/cohere.py:88: FutureWarning: promote has been superseded by promote_options='default'.\n",
            "  combined_results = self.merge_results(vector_results, fts_results)\n",
            " 13%|█▎        | 28/220 [00:06<00:39,  4.86it/s]/usr/local/lib/python3.10/dist-packages/lancedb/rerankers/cohere.py:88: FutureWarning: promote has been superseded by promote_options='default'.\n",
            "  combined_results = self.merge_results(vector_results, fts_results)\n",
            " 13%|█▎        | 29/220 [00:06<00:39,  4.79it/s]/usr/local/lib/python3.10/dist-packages/lancedb/rerankers/cohere.py:88: FutureWarning: promote has been superseded by promote_options='default'.\n",
            "  combined_results = self.merge_results(vector_results, fts_results)\n",
            " 14%|█▎        | 30/220 [00:06<00:41,  4.60it/s]/usr/local/lib/python3.10/dist-packages/lancedb/rerankers/cohere.py:88: FutureWarning: promote has been superseded by promote_options='default'.\n",
            "  combined_results = self.merge_results(vector_results, fts_results)\n",
            " 14%|█▍        | 31/220 [00:07<00:40,  4.66it/s]/usr/local/lib/python3.10/dist-packages/lancedb/rerankers/cohere.py:88: FutureWarning: promote has been superseded by promote_options='default'.\n",
            "  combined_results = self.merge_results(vector_results, fts_results)\n",
            " 15%|█▍        | 32/220 [00:07<00:39,  4.74it/s]/usr/local/lib/python3.10/dist-packages/lancedb/rerankers/cohere.py:88: FutureWarning: promote has been superseded by promote_options='default'.\n",
            "  combined_results = self.merge_results(vector_results, fts_results)\n",
            " 15%|█▌        | 33/220 [00:07<00:40,  4.60it/s]/usr/local/lib/python3.10/dist-packages/lancedb/rerankers/cohere.py:88: FutureWarning: promote has been superseded by promote_options='default'.\n",
            "  combined_results = self.merge_results(vector_results, fts_results)\n",
            " 15%|█▌        | 34/220 [00:07<00:37,  4.91it/s]/usr/local/lib/python3.10/dist-packages/lancedb/rerankers/cohere.py:88: FutureWarning: promote has been superseded by promote_options='default'.\n",
            "  combined_results = self.merge_results(vector_results, fts_results)\n",
            " 16%|█▌        | 35/220 [00:07<00:36,  5.03it/s]/usr/local/lib/python3.10/dist-packages/lancedb/rerankers/cohere.py:88: FutureWarning: promote has been superseded by promote_options='default'.\n",
            "  combined_results = self.merge_results(vector_results, fts_results)\n",
            " 16%|█▋        | 36/220 [00:08<00:36,  5.09it/s]/usr/local/lib/python3.10/dist-packages/lancedb/rerankers/cohere.py:88: FutureWarning: promote has been superseded by promote_options='default'.\n",
            "  combined_results = self.merge_results(vector_results, fts_results)\n",
            " 17%|█▋        | 37/220 [00:08<00:35,  5.12it/s]/usr/local/lib/python3.10/dist-packages/lancedb/rerankers/cohere.py:88: FutureWarning: promote has been superseded by promote_options='default'.\n",
            "  combined_results = self.merge_results(vector_results, fts_results)\n",
            " 17%|█▋        | 38/220 [00:08<00:38,  4.74it/s]/usr/local/lib/python3.10/dist-packages/lancedb/rerankers/cohere.py:88: FutureWarning: promote has been superseded by promote_options='default'.\n",
            "  combined_results = self.merge_results(vector_results, fts_results)\n",
            " 18%|█▊        | 39/220 [00:08<00:39,  4.59it/s]/usr/local/lib/python3.10/dist-packages/lancedb/rerankers/cohere.py:88: FutureWarning: promote has been superseded by promote_options='default'.\n",
            "  combined_results = self.merge_results(vector_results, fts_results)\n",
            " 18%|█▊        | 40/220 [00:09<00:37,  4.75it/s]/usr/local/lib/python3.10/dist-packages/lancedb/rerankers/cohere.py:88: FutureWarning: promote has been superseded by promote_options='default'.\n",
            "  combined_results = self.merge_results(vector_results, fts_results)\n",
            " 19%|█▊        | 41/220 [00:09<00:36,  4.96it/s]/usr/local/lib/python3.10/dist-packages/lancedb/rerankers/cohere.py:88: FutureWarning: promote has been superseded by promote_options='default'.\n",
            "  combined_results = self.merge_results(vector_results, fts_results)\n",
            " 19%|█▉        | 42/220 [00:09<00:35,  5.03it/s]/usr/local/lib/python3.10/dist-packages/lancedb/rerankers/cohere.py:88: FutureWarning: promote has been superseded by promote_options='default'.\n",
            "  combined_results = self.merge_results(vector_results, fts_results)\n",
            " 20%|█▉        | 43/220 [00:09<00:35,  5.05it/s]/usr/local/lib/python3.10/dist-packages/lancedb/rerankers/cohere.py:88: FutureWarning: promote has been superseded by promote_options='default'.\n",
            "  combined_results = self.merge_results(vector_results, fts_results)\n",
            " 20%|██        | 44/220 [00:09<00:34,  5.04it/s]/usr/local/lib/python3.10/dist-packages/lancedb/rerankers/cohere.py:88: FutureWarning: promote has been superseded by promote_options='default'.\n",
            "  combined_results = self.merge_results(vector_results, fts_results)\n",
            " 20%|██        | 45/220 [00:09<00:34,  5.00it/s]/usr/local/lib/python3.10/dist-packages/lancedb/rerankers/cohere.py:88: FutureWarning: promote has been superseded by promote_options='default'.\n",
            "  combined_results = self.merge_results(vector_results, fts_results)\n",
            " 21%|██        | 46/220 [00:10<00:34,  5.05it/s]/usr/local/lib/python3.10/dist-packages/lancedb/rerankers/cohere.py:88: FutureWarning: promote has been superseded by promote_options='default'.\n",
            "  combined_results = self.merge_results(vector_results, fts_results)\n",
            " 21%|██▏       | 47/220 [00:10<00:33,  5.14it/s]/usr/local/lib/python3.10/dist-packages/lancedb/rerankers/cohere.py:88: FutureWarning: promote has been superseded by promote_options='default'.\n",
            "  combined_results = self.merge_results(vector_results, fts_results)\n",
            " 22%|██▏       | 48/220 [00:10<00:35,  4.89it/s]/usr/local/lib/python3.10/dist-packages/lancedb/rerankers/cohere.py:88: FutureWarning: promote has been superseded by promote_options='default'.\n",
            "  combined_results = self.merge_results(vector_results, fts_results)\n",
            " 22%|██▏       | 49/220 [00:10<00:36,  4.71it/s]/usr/local/lib/python3.10/dist-packages/lancedb/rerankers/cohere.py:88: FutureWarning: promote has been superseded by promote_options='default'.\n",
            "  combined_results = self.merge_results(vector_results, fts_results)\n",
            " 23%|██▎       | 50/220 [00:11<00:43,  3.87it/s]/usr/local/lib/python3.10/dist-packages/lancedb/rerankers/cohere.py:88: FutureWarning: promote has been superseded by promote_options='default'.\n",
            "  combined_results = self.merge_results(vector_results, fts_results)\n",
            " 23%|██▎       | 51/220 [00:11<00:39,  4.30it/s]/usr/local/lib/python3.10/dist-packages/lancedb/rerankers/cohere.py:88: FutureWarning: promote has been superseded by promote_options='default'.\n",
            "  combined_results = self.merge_results(vector_results, fts_results)\n",
            " 24%|██▎       | 52/220 [00:11<00:41,  4.07it/s]/usr/local/lib/python3.10/dist-packages/lancedb/rerankers/cohere.py:88: FutureWarning: promote has been superseded by promote_options='default'.\n",
            "  combined_results = self.merge_results(vector_results, fts_results)\n",
            " 24%|██▍       | 53/220 [00:11<00:38,  4.39it/s]/usr/local/lib/python3.10/dist-packages/lancedb/rerankers/cohere.py:88: FutureWarning: promote has been superseded by promote_options='default'.\n",
            "  combined_results = self.merge_results(vector_results, fts_results)\n",
            " 25%|██▍       | 54/220 [00:12<00:36,  4.51it/s]/usr/local/lib/python3.10/dist-packages/lancedb/rerankers/cohere.py:88: FutureWarning: promote has been superseded by promote_options='default'.\n",
            "  combined_results = self.merge_results(vector_results, fts_results)\n",
            " 25%|██▌       | 55/220 [00:12<00:35,  4.61it/s]/usr/local/lib/python3.10/dist-packages/lancedb/rerankers/cohere.py:88: FutureWarning: promote has been superseded by promote_options='default'.\n",
            "  combined_results = self.merge_results(vector_results, fts_results)\n",
            " 25%|██▌       | 56/220 [00:12<00:34,  4.77it/s]/usr/local/lib/python3.10/dist-packages/lancedb/rerankers/cohere.py:88: FutureWarning: promote has been superseded by promote_options='default'.\n",
            "  combined_results = self.merge_results(vector_results, fts_results)\n",
            " 26%|██▌       | 57/220 [00:13<00:58,  2.81it/s]/usr/local/lib/python3.10/dist-packages/lancedb/rerankers/cohere.py:88: FutureWarning: promote has been superseded by promote_options='default'.\n",
            "  combined_results = self.merge_results(vector_results, fts_results)\n",
            " 26%|██▋       | 58/220 [00:13<00:50,  3.24it/s]/usr/local/lib/python3.10/dist-packages/lancedb/rerankers/cohere.py:88: FutureWarning: promote has been superseded by promote_options='default'.\n",
            "  combined_results = self.merge_results(vector_results, fts_results)\n",
            " 27%|██▋       | 59/220 [00:13<00:43,  3.73it/s]/usr/local/lib/python3.10/dist-packages/lancedb/rerankers/cohere.py:88: FutureWarning: promote has been superseded by promote_options='default'.\n",
            "  combined_results = self.merge_results(vector_results, fts_results)\n",
            " 27%|██▋       | 60/220 [00:13<00:39,  4.01it/s]/usr/local/lib/python3.10/dist-packages/lancedb/rerankers/cohere.py:88: FutureWarning: promote has been superseded by promote_options='default'.\n",
            "  combined_results = self.merge_results(vector_results, fts_results)\n",
            " 28%|██▊       | 61/220 [00:13<00:36,  4.35it/s]/usr/local/lib/python3.10/dist-packages/lancedb/rerankers/cohere.py:88: FutureWarning: promote has been superseded by promote_options='default'.\n",
            "  combined_results = self.merge_results(vector_results, fts_results)\n",
            " 28%|██▊       | 62/220 [00:14<00:33,  4.67it/s]/usr/local/lib/python3.10/dist-packages/lancedb/rerankers/cohere.py:88: FutureWarning: promote has been superseded by promote_options='default'.\n",
            "  combined_results = self.merge_results(vector_results, fts_results)\n",
            " 29%|██▊       | 63/220 [00:14<00:32,  4.81it/s]/usr/local/lib/python3.10/dist-packages/lancedb/rerankers/cohere.py:88: FutureWarning: promote has been superseded by promote_options='default'.\n",
            "  combined_results = self.merge_results(vector_results, fts_results)\n",
            " 29%|██▉       | 64/220 [00:14<00:32,  4.87it/s]/usr/local/lib/python3.10/dist-packages/lancedb/rerankers/cohere.py:88: FutureWarning: promote has been superseded by promote_options='default'.\n",
            "  combined_results = self.merge_results(vector_results, fts_results)\n",
            " 30%|██▉       | 65/220 [00:14<00:30,  5.04it/s]/usr/local/lib/python3.10/dist-packages/lancedb/rerankers/cohere.py:88: FutureWarning: promote has been superseded by promote_options='default'.\n",
            "  combined_results = self.merge_results(vector_results, fts_results)\n",
            " 30%|███       | 66/220 [00:15<00:38,  3.96it/s]/usr/local/lib/python3.10/dist-packages/lancedb/rerankers/cohere.py:88: FutureWarning: promote has been superseded by promote_options='default'.\n",
            "  combined_results = self.merge_results(vector_results, fts_results)\n",
            " 30%|███       | 67/220 [00:15<00:36,  4.17it/s]/usr/local/lib/python3.10/dist-packages/lancedb/rerankers/cohere.py:88: FutureWarning: promote has been superseded by promote_options='default'.\n",
            "  combined_results = self.merge_results(vector_results, fts_results)\n",
            " 31%|███       | 68/220 [00:15<00:35,  4.27it/s]/usr/local/lib/python3.10/dist-packages/lancedb/rerankers/cohere.py:88: FutureWarning: promote has been superseded by promote_options='default'.\n",
            "  combined_results = self.merge_results(vector_results, fts_results)\n",
            " 31%|███▏      | 69/220 [00:15<00:35,  4.27it/s]/usr/local/lib/python3.10/dist-packages/lancedb/rerankers/cohere.py:88: FutureWarning: promote has been superseded by promote_options='default'.\n",
            "  combined_results = self.merge_results(vector_results, fts_results)\n",
            " 32%|███▏      | 70/220 [00:15<00:34,  4.30it/s]/usr/local/lib/python3.10/dist-packages/lancedb/rerankers/cohere.py:88: FutureWarning: promote has been superseded by promote_options='default'.\n",
            "  combined_results = self.merge_results(vector_results, fts_results)\n",
            " 32%|███▏      | 71/220 [00:16<00:34,  4.35it/s]/usr/local/lib/python3.10/dist-packages/lancedb/rerankers/cohere.py:88: FutureWarning: promote has been superseded by promote_options='default'.\n",
            "  combined_results = self.merge_results(vector_results, fts_results)\n",
            " 33%|███▎      | 72/220 [00:16<00:34,  4.31it/s]/usr/local/lib/python3.10/dist-packages/lancedb/rerankers/cohere.py:88: FutureWarning: promote has been superseded by promote_options='default'.\n",
            "  combined_results = self.merge_results(vector_results, fts_results)\n",
            " 33%|███▎      | 73/220 [00:16<00:34,  4.27it/s]/usr/local/lib/python3.10/dist-packages/lancedb/rerankers/cohere.py:88: FutureWarning: promote has been superseded by promote_options='default'.\n",
            "  combined_results = self.merge_results(vector_results, fts_results)\n",
            " 34%|███▎      | 74/220 [00:16<00:34,  4.25it/s]/usr/local/lib/python3.10/dist-packages/lancedb/rerankers/cohere.py:88: FutureWarning: promote has been superseded by promote_options='default'.\n",
            "  combined_results = self.merge_results(vector_results, fts_results)\n",
            " 34%|███▍      | 75/220 [00:17<00:33,  4.38it/s]/usr/local/lib/python3.10/dist-packages/lancedb/rerankers/cohere.py:88: FutureWarning: promote has been superseded by promote_options='default'.\n",
            "  combined_results = self.merge_results(vector_results, fts_results)\n",
            " 35%|███▍      | 76/220 [00:17<00:32,  4.47it/s]/usr/local/lib/python3.10/dist-packages/lancedb/rerankers/cohere.py:88: FutureWarning: promote has been superseded by promote_options='default'.\n",
            "  combined_results = self.merge_results(vector_results, fts_results)\n",
            " 35%|███▌      | 77/220 [00:17<00:31,  4.49it/s]/usr/local/lib/python3.10/dist-packages/lancedb/rerankers/cohere.py:88: FutureWarning: promote has been superseded by promote_options='default'.\n",
            "  combined_results = self.merge_results(vector_results, fts_results)\n",
            " 35%|███▌      | 78/220 [00:17<00:30,  4.60it/s]/usr/local/lib/python3.10/dist-packages/lancedb/rerankers/cohere.py:88: FutureWarning: promote has been superseded by promote_options='default'.\n",
            "  combined_results = self.merge_results(vector_results, fts_results)\n",
            " 36%|███▌      | 79/220 [00:17<00:29,  4.74it/s]/usr/local/lib/python3.10/dist-packages/lancedb/rerankers/cohere.py:88: FutureWarning: promote has been superseded by promote_options='default'.\n",
            "  combined_results = self.merge_results(vector_results, fts_results)\n",
            " 36%|███▋      | 80/220 [00:18<00:29,  4.70it/s]/usr/local/lib/python3.10/dist-packages/lancedb/rerankers/cohere.py:88: FutureWarning: promote has been superseded by promote_options='default'.\n",
            "  combined_results = self.merge_results(vector_results, fts_results)\n",
            " 37%|███▋      | 81/220 [00:18<00:36,  3.82it/s]/usr/local/lib/python3.10/dist-packages/lancedb/rerankers/cohere.py:88: FutureWarning: promote has been superseded by promote_options='default'.\n",
            "  combined_results = self.merge_results(vector_results, fts_results)\n",
            " 37%|███▋      | 82/220 [00:18<00:33,  4.06it/s]/usr/local/lib/python3.10/dist-packages/lancedb/rerankers/cohere.py:88: FutureWarning: promote has been superseded by promote_options='default'.\n",
            "  combined_results = self.merge_results(vector_results, fts_results)\n",
            " 38%|███▊      | 83/220 [00:18<00:31,  4.34it/s]/usr/local/lib/python3.10/dist-packages/lancedb/rerankers/cohere.py:88: FutureWarning: promote has been superseded by promote_options='default'.\n",
            "  combined_results = self.merge_results(vector_results, fts_results)\n",
            " 38%|███▊      | 84/220 [00:19<00:29,  4.56it/s]/usr/local/lib/python3.10/dist-packages/lancedb/rerankers/cohere.py:88: FutureWarning: promote has been superseded by promote_options='default'.\n",
            "  combined_results = self.merge_results(vector_results, fts_results)\n",
            " 39%|███▊      | 85/220 [00:19<00:32,  4.16it/s]/usr/local/lib/python3.10/dist-packages/lancedb/rerankers/cohere.py:88: FutureWarning: promote has been superseded by promote_options='default'.\n",
            "  combined_results = self.merge_results(vector_results, fts_results)\n",
            " 39%|███▉      | 86/220 [00:19<00:31,  4.31it/s]/usr/local/lib/python3.10/dist-packages/lancedb/rerankers/cohere.py:88: FutureWarning: promote has been superseded by promote_options='default'.\n",
            "  combined_results = self.merge_results(vector_results, fts_results)\n",
            " 40%|███▉      | 87/220 [00:19<00:31,  4.24it/s]/usr/local/lib/python3.10/dist-packages/lancedb/rerankers/cohere.py:88: FutureWarning: promote has been superseded by promote_options='default'.\n",
            "  combined_results = self.merge_results(vector_results, fts_results)\n",
            " 40%|████      | 88/220 [00:20<00:29,  4.40it/s]/usr/local/lib/python3.10/dist-packages/lancedb/rerankers/cohere.py:88: FutureWarning: promote has been superseded by promote_options='default'.\n",
            "  combined_results = self.merge_results(vector_results, fts_results)\n",
            " 40%|████      | 89/220 [00:20<00:28,  4.66it/s]/usr/local/lib/python3.10/dist-packages/lancedb/rerankers/cohere.py:88: FutureWarning: promote has been superseded by promote_options='default'.\n",
            "  combined_results = self.merge_results(vector_results, fts_results)\n",
            " 41%|████      | 90/220 [00:20<00:27,  4.79it/s]/usr/local/lib/python3.10/dist-packages/lancedb/rerankers/cohere.py:88: FutureWarning: promote has been superseded by promote_options='default'.\n",
            "  combined_results = self.merge_results(vector_results, fts_results)\n",
            " 41%|████▏     | 91/220 [00:20<00:26,  4.79it/s]/usr/local/lib/python3.10/dist-packages/lancedb/rerankers/cohere.py:88: FutureWarning: promote has been superseded by promote_options='default'.\n",
            "  combined_results = self.merge_results(vector_results, fts_results)\n",
            " 42%|████▏     | 92/220 [00:20<00:26,  4.79it/s]/usr/local/lib/python3.10/dist-packages/lancedb/rerankers/cohere.py:88: FutureWarning: promote has been superseded by promote_options='default'.\n",
            "  combined_results = self.merge_results(vector_results, fts_results)\n",
            " 42%|████▏     | 93/220 [00:21<00:26,  4.84it/s]/usr/local/lib/python3.10/dist-packages/lancedb/rerankers/cohere.py:88: FutureWarning: promote has been superseded by promote_options='default'.\n",
            "  combined_results = self.merge_results(vector_results, fts_results)\n",
            " 43%|████▎     | 94/220 [00:21<00:25,  5.00it/s]/usr/local/lib/python3.10/dist-packages/lancedb/rerankers/cohere.py:88: FutureWarning: promote has been superseded by promote_options='default'.\n",
            "  combined_results = self.merge_results(vector_results, fts_results)\n",
            " 43%|████▎     | 95/220 [00:21<00:25,  4.91it/s]/usr/local/lib/python3.10/dist-packages/lancedb/rerankers/cohere.py:88: FutureWarning: promote has been superseded by promote_options='default'.\n",
            "  combined_results = self.merge_results(vector_results, fts_results)\n",
            " 44%|████▎     | 96/220 [00:21<00:24,  5.08it/s]/usr/local/lib/python3.10/dist-packages/lancedb/rerankers/cohere.py:88: FutureWarning: promote has been superseded by promote_options='default'.\n",
            "  combined_results = self.merge_results(vector_results, fts_results)\n",
            " 44%|████▍     | 97/220 [00:21<00:24,  4.95it/s]/usr/local/lib/python3.10/dist-packages/lancedb/rerankers/cohere.py:88: FutureWarning: promote has been superseded by promote_options='default'.\n",
            "  combined_results = self.merge_results(vector_results, fts_results)\n",
            " 45%|████▍     | 98/220 [00:22<00:25,  4.78it/s]/usr/local/lib/python3.10/dist-packages/lancedb/rerankers/cohere.py:88: FutureWarning: promote has been superseded by promote_options='default'.\n",
            "  combined_results = self.merge_results(vector_results, fts_results)\n",
            " 45%|████▌     | 99/220 [00:22<00:24,  4.88it/s]/usr/local/lib/python3.10/dist-packages/lancedb/rerankers/cohere.py:88: FutureWarning: promote has been superseded by promote_options='default'.\n",
            "  combined_results = self.merge_results(vector_results, fts_results)\n",
            " 45%|████▌     | 100/220 [00:22<00:24,  4.90it/s]/usr/local/lib/python3.10/dist-packages/lancedb/rerankers/cohere.py:88: FutureWarning: promote has been superseded by promote_options='default'.\n",
            "  combined_results = self.merge_results(vector_results, fts_results)\n",
            " 46%|████▌     | 101/220 [00:22<00:24,  4.77it/s]/usr/local/lib/python3.10/dist-packages/lancedb/rerankers/cohere.py:88: FutureWarning: promote has been superseded by promote_options='default'.\n",
            "  combined_results = self.merge_results(vector_results, fts_results)\n",
            " 46%|████▋     | 102/220 [00:22<00:24,  4.74it/s]/usr/local/lib/python3.10/dist-packages/lancedb/rerankers/cohere.py:88: FutureWarning: promote has been superseded by promote_options='default'.\n",
            "  combined_results = self.merge_results(vector_results, fts_results)\n",
            " 47%|████▋     | 103/220 [00:23<00:25,  4.67it/s]/usr/local/lib/python3.10/dist-packages/lancedb/rerankers/cohere.py:88: FutureWarning: promote has been superseded by promote_options='default'.\n",
            "  combined_results = self.merge_results(vector_results, fts_results)\n",
            " 47%|████▋     | 104/220 [00:23<00:24,  4.76it/s]/usr/local/lib/python3.10/dist-packages/lancedb/rerankers/cohere.py:88: FutureWarning: promote has been superseded by promote_options='default'.\n",
            "  combined_results = self.merge_results(vector_results, fts_results)\n",
            " 48%|████▊     | 105/220 [00:23<00:23,  4.82it/s]/usr/local/lib/python3.10/dist-packages/lancedb/rerankers/cohere.py:88: FutureWarning: promote has been superseded by promote_options='default'.\n",
            "  combined_results = self.merge_results(vector_results, fts_results)\n",
            " 48%|████▊     | 106/220 [00:23<00:24,  4.75it/s]/usr/local/lib/python3.10/dist-packages/lancedb/rerankers/cohere.py:88: FutureWarning: promote has been superseded by promote_options='default'.\n",
            "  combined_results = self.merge_results(vector_results, fts_results)\n",
            " 49%|████▊     | 107/220 [00:23<00:23,  4.76it/s]/usr/local/lib/python3.10/dist-packages/lancedb/rerankers/cohere.py:88: FutureWarning: promote has been superseded by promote_options='default'.\n",
            "  combined_results = self.merge_results(vector_results, fts_results)\n",
            " 49%|████▉     | 108/220 [00:24<00:23,  4.78it/s]/usr/local/lib/python3.10/dist-packages/lancedb/rerankers/cohere.py:88: FutureWarning: promote has been superseded by promote_options='default'.\n",
            "  combined_results = self.merge_results(vector_results, fts_results)\n",
            " 50%|████▉     | 109/220 [00:24<00:23,  4.79it/s]/usr/local/lib/python3.10/dist-packages/lancedb/rerankers/cohere.py:88: FutureWarning: promote has been superseded by promote_options='default'.\n",
            "  combined_results = self.merge_results(vector_results, fts_results)\n",
            " 50%|█████     | 110/220 [00:24<00:22,  4.88it/s]/usr/local/lib/python3.10/dist-packages/lancedb/rerankers/cohere.py:88: FutureWarning: promote has been superseded by promote_options='default'.\n",
            "  combined_results = self.merge_results(vector_results, fts_results)\n",
            " 50%|█████     | 111/220 [00:24<00:22,  4.89it/s]/usr/local/lib/python3.10/dist-packages/lancedb/rerankers/cohere.py:88: FutureWarning: promote has been superseded by promote_options='default'.\n",
            "  combined_results = self.merge_results(vector_results, fts_results)\n",
            " 51%|█████     | 112/220 [00:24<00:21,  4.97it/s]/usr/local/lib/python3.10/dist-packages/lancedb/rerankers/cohere.py:88: FutureWarning: promote has been superseded by promote_options='default'.\n",
            "  combined_results = self.merge_results(vector_results, fts_results)\n",
            " 51%|█████▏    | 113/220 [00:25<00:22,  4.72it/s]/usr/local/lib/python3.10/dist-packages/lancedb/rerankers/cohere.py:88: FutureWarning: promote has been superseded by promote_options='default'.\n",
            "  combined_results = self.merge_results(vector_results, fts_results)\n",
            " 52%|█████▏    | 114/220 [00:25<00:21,  4.85it/s]/usr/local/lib/python3.10/dist-packages/lancedb/rerankers/cohere.py:88: FutureWarning: promote has been superseded by promote_options='default'.\n",
            "  combined_results = self.merge_results(vector_results, fts_results)\n",
            " 52%|█████▏    | 115/220 [00:25<00:21,  4.78it/s]/usr/local/lib/python3.10/dist-packages/lancedb/rerankers/cohere.py:88: FutureWarning: promote has been superseded by promote_options='default'.\n",
            "  combined_results = self.merge_results(vector_results, fts_results)\n",
            " 53%|█████▎    | 116/220 [00:25<00:21,  4.85it/s]/usr/local/lib/python3.10/dist-packages/lancedb/rerankers/cohere.py:88: FutureWarning: promote has been superseded by promote_options='default'.\n",
            "  combined_results = self.merge_results(vector_results, fts_results)\n",
            " 53%|█████▎    | 117/220 [00:25<00:20,  5.01it/s]/usr/local/lib/python3.10/dist-packages/lancedb/rerankers/cohere.py:88: FutureWarning: promote has been superseded by promote_options='default'.\n",
            "  combined_results = self.merge_results(vector_results, fts_results)\n",
            " 54%|█████▎    | 118/220 [00:26<00:20,  5.09it/s]/usr/local/lib/python3.10/dist-packages/lancedb/rerankers/cohere.py:88: FutureWarning: promote has been superseded by promote_options='default'.\n",
            "  combined_results = self.merge_results(vector_results, fts_results)\n",
            " 54%|█████▍    | 119/220 [00:26<00:21,  4.66it/s]/usr/local/lib/python3.10/dist-packages/lancedb/rerankers/cohere.py:88: FutureWarning: promote has been superseded by promote_options='default'.\n",
            "  combined_results = self.merge_results(vector_results, fts_results)\n",
            " 55%|█████▍    | 120/220 [00:26<00:26,  3.75it/s]/usr/local/lib/python3.10/dist-packages/lancedb/rerankers/cohere.py:88: FutureWarning: promote has been superseded by promote_options='default'.\n",
            "  combined_results = self.merge_results(vector_results, fts_results)\n",
            " 55%|█████▌    | 121/220 [00:27<00:24,  3.99it/s]/usr/local/lib/python3.10/dist-packages/lancedb/rerankers/cohere.py:88: FutureWarning: promote has been superseded by promote_options='default'.\n",
            "  combined_results = self.merge_results(vector_results, fts_results)\n",
            " 55%|█████▌    | 122/220 [00:27<00:23,  4.13it/s]/usr/local/lib/python3.10/dist-packages/lancedb/rerankers/cohere.py:88: FutureWarning: promote has been superseded by promote_options='default'.\n",
            "  combined_results = self.merge_results(vector_results, fts_results)\n",
            " 56%|█████▌    | 123/220 [00:27<00:22,  4.24it/s]/usr/local/lib/python3.10/dist-packages/lancedb/rerankers/cohere.py:88: FutureWarning: promote has been superseded by promote_options='default'.\n",
            "  combined_results = self.merge_results(vector_results, fts_results)\n",
            " 56%|█████▋    | 124/220 [00:27<00:21,  4.43it/s]/usr/local/lib/python3.10/dist-packages/lancedb/rerankers/cohere.py:88: FutureWarning: promote has been superseded by promote_options='default'.\n",
            "  combined_results = self.merge_results(vector_results, fts_results)\n",
            " 57%|█████▋    | 125/220 [00:27<00:22,  4.24it/s]/usr/local/lib/python3.10/dist-packages/lancedb/rerankers/cohere.py:88: FutureWarning: promote has been superseded by promote_options='default'.\n",
            "  combined_results = self.merge_results(vector_results, fts_results)\n",
            " 57%|█████▋    | 126/220 [00:28<00:21,  4.40it/s]/usr/local/lib/python3.10/dist-packages/lancedb/rerankers/cohere.py:88: FutureWarning: promote has been superseded by promote_options='default'.\n",
            "  combined_results = self.merge_results(vector_results, fts_results)\n",
            " 58%|█████▊    | 127/220 [00:28<00:21,  4.41it/s]/usr/local/lib/python3.10/dist-packages/lancedb/rerankers/cohere.py:88: FutureWarning: promote has been superseded by promote_options='default'.\n",
            "  combined_results = self.merge_results(vector_results, fts_results)\n",
            " 58%|█████▊    | 128/220 [00:28<00:21,  4.25it/s]/usr/local/lib/python3.10/dist-packages/lancedb/rerankers/cohere.py:88: FutureWarning: promote has been superseded by promote_options='default'.\n",
            "  combined_results = self.merge_results(vector_results, fts_results)\n",
            " 59%|█████▊    | 129/220 [00:28<00:21,  4.32it/s]/usr/local/lib/python3.10/dist-packages/lancedb/rerankers/cohere.py:88: FutureWarning: promote has been superseded by promote_options='default'.\n",
            "  combined_results = self.merge_results(vector_results, fts_results)\n",
            " 59%|█████▉    | 130/220 [00:29<00:24,  3.65it/s]/usr/local/lib/python3.10/dist-packages/lancedb/rerankers/cohere.py:88: FutureWarning: promote has been superseded by promote_options='default'.\n",
            "  combined_results = self.merge_results(vector_results, fts_results)\n",
            " 60%|█████▉    | 131/220 [00:29<00:22,  3.95it/s]/usr/local/lib/python3.10/dist-packages/lancedb/rerankers/cohere.py:88: FutureWarning: promote has been superseded by promote_options='default'.\n",
            "  combined_results = self.merge_results(vector_results, fts_results)\n",
            " 60%|██████    | 132/220 [00:29<00:21,  4.17it/s]/usr/local/lib/python3.10/dist-packages/lancedb/rerankers/cohere.py:88: FutureWarning: promote has been superseded by promote_options='default'.\n",
            "  combined_results = self.merge_results(vector_results, fts_results)\n",
            " 60%|██████    | 133/220 [00:29<00:19,  4.41it/s]/usr/local/lib/python3.10/dist-packages/lancedb/rerankers/cohere.py:88: FutureWarning: promote has been superseded by promote_options='default'.\n",
            "  combined_results = self.merge_results(vector_results, fts_results)\n",
            " 61%|██████    | 134/220 [00:30<00:19,  4.45it/s]/usr/local/lib/python3.10/dist-packages/lancedb/rerankers/cohere.py:88: FutureWarning: promote has been superseded by promote_options='default'.\n",
            "  combined_results = self.merge_results(vector_results, fts_results)\n",
            " 61%|██████▏   | 135/220 [00:30<00:18,  4.58it/s]/usr/local/lib/python3.10/dist-packages/lancedb/rerankers/cohere.py:88: FutureWarning: promote has been superseded by promote_options='default'.\n",
            "  combined_results = self.merge_results(vector_results, fts_results)\n",
            " 62%|██████▏   | 136/220 [00:30<00:18,  4.63it/s]/usr/local/lib/python3.10/dist-packages/lancedb/rerankers/cohere.py:88: FutureWarning: promote has been superseded by promote_options='default'.\n",
            "  combined_results = self.merge_results(vector_results, fts_results)\n",
            " 62%|██████▏   | 137/220 [00:30<00:17,  4.77it/s]/usr/local/lib/python3.10/dist-packages/lancedb/rerankers/cohere.py:88: FutureWarning: promote has been superseded by promote_options='default'.\n",
            "  combined_results = self.merge_results(vector_results, fts_results)\n",
            " 63%|██████▎   | 138/220 [00:30<00:16,  5.05it/s]/usr/local/lib/python3.10/dist-packages/lancedb/rerankers/cohere.py:88: FutureWarning: promote has been superseded by promote_options='default'.\n",
            "  combined_results = self.merge_results(vector_results, fts_results)\n",
            " 63%|██████▎   | 139/220 [00:31<00:15,  5.09it/s]/usr/local/lib/python3.10/dist-packages/lancedb/rerankers/cohere.py:88: FutureWarning: promote has been superseded by promote_options='default'.\n",
            "  combined_results = self.merge_results(vector_results, fts_results)\n",
            " 64%|██████▎   | 140/220 [00:31<00:15,  5.11it/s]/usr/local/lib/python3.10/dist-packages/lancedb/rerankers/cohere.py:88: FutureWarning: promote has been superseded by promote_options='default'.\n",
            "  combined_results = self.merge_results(vector_results, fts_results)\n",
            " 64%|██████▍   | 141/220 [00:31<00:18,  4.38it/s]/usr/local/lib/python3.10/dist-packages/lancedb/rerankers/cohere.py:88: FutureWarning: promote has been superseded by promote_options='default'.\n",
            "  combined_results = self.merge_results(vector_results, fts_results)\n",
            " 65%|██████▍   | 142/220 [00:31<00:17,  4.43it/s]/usr/local/lib/python3.10/dist-packages/lancedb/rerankers/cohere.py:88: FutureWarning: promote has been superseded by promote_options='default'.\n",
            "  combined_results = self.merge_results(vector_results, fts_results)\n",
            " 65%|██████▌   | 143/220 [00:31<00:17,  4.47it/s]/usr/local/lib/python3.10/dist-packages/lancedb/rerankers/cohere.py:88: FutureWarning: promote has been superseded by promote_options='default'.\n",
            "  combined_results = self.merge_results(vector_results, fts_results)\n",
            " 65%|██████▌   | 144/220 [00:32<00:16,  4.64it/s]/usr/local/lib/python3.10/dist-packages/lancedb/rerankers/cohere.py:88: FutureWarning: promote has been superseded by promote_options='default'.\n",
            "  combined_results = self.merge_results(vector_results, fts_results)\n",
            " 66%|██████▌   | 145/220 [00:32<00:15,  4.80it/s]/usr/local/lib/python3.10/dist-packages/lancedb/rerankers/cohere.py:88: FutureWarning: promote has been superseded by promote_options='default'.\n",
            "  combined_results = self.merge_results(vector_results, fts_results)\n",
            " 66%|██████▋   | 146/220 [00:32<00:15,  4.86it/s]/usr/local/lib/python3.10/dist-packages/lancedb/rerankers/cohere.py:88: FutureWarning: promote has been superseded by promote_options='default'.\n",
            "  combined_results = self.merge_results(vector_results, fts_results)\n",
            " 67%|██████▋   | 147/220 [00:32<00:14,  4.94it/s]/usr/local/lib/python3.10/dist-packages/lancedb/rerankers/cohere.py:88: FutureWarning: promote has been superseded by promote_options='default'.\n",
            "  combined_results = self.merge_results(vector_results, fts_results)\n",
            " 67%|██████▋   | 148/220 [00:32<00:14,  4.88it/s]/usr/local/lib/python3.10/dist-packages/lancedb/rerankers/cohere.py:88: FutureWarning: promote has been superseded by promote_options='default'.\n",
            "  combined_results = self.merge_results(vector_results, fts_results)\n",
            " 68%|██████▊   | 149/220 [00:33<00:14,  4.83it/s]/usr/local/lib/python3.10/dist-packages/lancedb/rerankers/cohere.py:88: FutureWarning: promote has been superseded by promote_options='default'.\n",
            "  combined_results = self.merge_results(vector_results, fts_results)\n",
            " 68%|██████▊   | 150/220 [00:33<00:14,  4.88it/s]/usr/local/lib/python3.10/dist-packages/lancedb/rerankers/cohere.py:88: FutureWarning: promote has been superseded by promote_options='default'.\n",
            "  combined_results = self.merge_results(vector_results, fts_results)\n",
            " 69%|██████▊   | 151/220 [00:33<00:14,  4.62it/s]/usr/local/lib/python3.10/dist-packages/lancedb/rerankers/cohere.py:88: FutureWarning: promote has been superseded by promote_options='default'.\n",
            "  combined_results = self.merge_results(vector_results, fts_results)\n",
            " 69%|██████▉   | 152/220 [00:33<00:14,  4.77it/s]/usr/local/lib/python3.10/dist-packages/lancedb/rerankers/cohere.py:88: FutureWarning: promote has been superseded by promote_options='default'.\n",
            "  combined_results = self.merge_results(vector_results, fts_results)\n",
            " 70%|██████▉   | 153/220 [00:33<00:13,  4.89it/s]/usr/local/lib/python3.10/dist-packages/lancedb/rerankers/cohere.py:88: FutureWarning: promote has been superseded by promote_options='default'.\n",
            "  combined_results = self.merge_results(vector_results, fts_results)\n",
            " 70%|███████   | 154/220 [00:34<00:13,  4.99it/s]/usr/local/lib/python3.10/dist-packages/lancedb/rerankers/cohere.py:88: FutureWarning: promote has been superseded by promote_options='default'.\n",
            "  combined_results = self.merge_results(vector_results, fts_results)\n",
            " 70%|███████   | 155/220 [00:34<00:13,  4.95it/s]/usr/local/lib/python3.10/dist-packages/lancedb/rerankers/cohere.py:88: FutureWarning: promote has been superseded by promote_options='default'.\n",
            "  combined_results = self.merge_results(vector_results, fts_results)\n",
            " 71%|███████   | 156/220 [00:34<00:12,  5.03it/s]/usr/local/lib/python3.10/dist-packages/lancedb/rerankers/cohere.py:88: FutureWarning: promote has been superseded by promote_options='default'.\n",
            "  combined_results = self.merge_results(vector_results, fts_results)\n",
            " 71%|███████▏  | 157/220 [00:34<00:12,  5.06it/s]/usr/local/lib/python3.10/dist-packages/lancedb/rerankers/cohere.py:88: FutureWarning: promote has been superseded by promote_options='default'.\n",
            "  combined_results = self.merge_results(vector_results, fts_results)\n",
            " 72%|███████▏  | 158/220 [00:34<00:12,  4.96it/s]/usr/local/lib/python3.10/dist-packages/lancedb/rerankers/cohere.py:88: FutureWarning: promote has been superseded by promote_options='default'.\n",
            "  combined_results = self.merge_results(vector_results, fts_results)\n",
            " 72%|███████▏  | 159/220 [00:35<00:12,  4.85it/s]/usr/local/lib/python3.10/dist-packages/lancedb/rerankers/cohere.py:88: FutureWarning: promote has been superseded by promote_options='default'.\n",
            "  combined_results = self.merge_results(vector_results, fts_results)\n",
            " 73%|███████▎  | 160/220 [00:35<00:11,  5.03it/s]/usr/local/lib/python3.10/dist-packages/lancedb/rerankers/cohere.py:88: FutureWarning: promote has been superseded by promote_options='default'.\n",
            "  combined_results = self.merge_results(vector_results, fts_results)\n",
            " 73%|███████▎  | 161/220 [00:35<00:11,  5.00it/s]/usr/local/lib/python3.10/dist-packages/lancedb/rerankers/cohere.py:88: FutureWarning: promote has been superseded by promote_options='default'.\n",
            "  combined_results = self.merge_results(vector_results, fts_results)\n",
            " 74%|███████▎  | 162/220 [00:35<00:11,  5.01it/s]/usr/local/lib/python3.10/dist-packages/lancedb/rerankers/cohere.py:88: FutureWarning: promote has been superseded by promote_options='default'.\n",
            "  combined_results = self.merge_results(vector_results, fts_results)\n",
            " 74%|███████▍  | 163/220 [00:35<00:11,  5.05it/s]/usr/local/lib/python3.10/dist-packages/lancedb/rerankers/cohere.py:88: FutureWarning: promote has been superseded by promote_options='default'.\n",
            "  combined_results = self.merge_results(vector_results, fts_results)\n",
            " 75%|███████▍  | 164/220 [00:36<00:10,  5.15it/s]/usr/local/lib/python3.10/dist-packages/lancedb/rerankers/cohere.py:88: FutureWarning: promote has been superseded by promote_options='default'.\n",
            "  combined_results = self.merge_results(vector_results, fts_results)\n",
            " 75%|███████▌  | 165/220 [00:36<00:10,  5.08it/s]/usr/local/lib/python3.10/dist-packages/lancedb/rerankers/cohere.py:88: FutureWarning: promote has been superseded by promote_options='default'.\n",
            "  combined_results = self.merge_results(vector_results, fts_results)\n",
            " 75%|███████▌  | 166/220 [00:36<00:10,  5.13it/s]/usr/local/lib/python3.10/dist-packages/lancedb/rerankers/cohere.py:88: FutureWarning: promote has been superseded by promote_options='default'.\n",
            "  combined_results = self.merge_results(vector_results, fts_results)\n",
            " 76%|███████▌  | 167/220 [00:36<00:11,  4.65it/s]/usr/local/lib/python3.10/dist-packages/lancedb/rerankers/cohere.py:88: FutureWarning: promote has been superseded by promote_options='default'.\n",
            "  combined_results = self.merge_results(vector_results, fts_results)\n",
            " 76%|███████▋  | 168/220 [00:36<00:10,  4.95it/s]/usr/local/lib/python3.10/dist-packages/lancedb/rerankers/cohere.py:88: FutureWarning: promote has been superseded by promote_options='default'.\n",
            "  combined_results = self.merge_results(vector_results, fts_results)\n",
            " 77%|███████▋  | 169/220 [00:37<00:10,  5.03it/s]/usr/local/lib/python3.10/dist-packages/lancedb/rerankers/cohere.py:88: FutureWarning: promote has been superseded by promote_options='default'.\n",
            "  combined_results = self.merge_results(vector_results, fts_results)\n",
            " 77%|███████▋  | 170/220 [00:37<00:09,  5.05it/s]/usr/local/lib/python3.10/dist-packages/lancedb/rerankers/cohere.py:88: FutureWarning: promote has been superseded by promote_options='default'.\n",
            "  combined_results = self.merge_results(vector_results, fts_results)\n",
            " 78%|███████▊  | 171/220 [00:37<00:10,  4.85it/s]/usr/local/lib/python3.10/dist-packages/lancedb/rerankers/cohere.py:88: FutureWarning: promote has been superseded by promote_options='default'.\n",
            "  combined_results = self.merge_results(vector_results, fts_results)\n",
            " 78%|███████▊  | 172/220 [00:37<00:09,  4.99it/s]/usr/local/lib/python3.10/dist-packages/lancedb/rerankers/cohere.py:88: FutureWarning: promote has been superseded by promote_options='default'.\n",
            "  combined_results = self.merge_results(vector_results, fts_results)\n",
            " 79%|███████▊  | 173/220 [00:37<00:09,  4.92it/s]/usr/local/lib/python3.10/dist-packages/lancedb/rerankers/cohere.py:88: FutureWarning: promote has been superseded by promote_options='default'.\n",
            "  combined_results = self.merge_results(vector_results, fts_results)\n",
            " 79%|███████▉  | 174/220 [00:38<00:09,  5.08it/s]/usr/local/lib/python3.10/dist-packages/lancedb/rerankers/cohere.py:88: FutureWarning: promote has been superseded by promote_options='default'.\n",
            "  combined_results = self.merge_results(vector_results, fts_results)\n",
            " 80%|███████▉  | 175/220 [00:38<00:08,  5.23it/s]/usr/local/lib/python3.10/dist-packages/lancedb/rerankers/cohere.py:88: FutureWarning: promote has been superseded by promote_options='default'.\n",
            "  combined_results = self.merge_results(vector_results, fts_results)\n",
            " 80%|████████  | 176/220 [00:38<00:08,  5.26it/s]/usr/local/lib/python3.10/dist-packages/lancedb/rerankers/cohere.py:88: FutureWarning: promote has been superseded by promote_options='default'.\n",
            "  combined_results = self.merge_results(vector_results, fts_results)\n",
            " 80%|████████  | 177/220 [00:38<00:08,  5.27it/s]/usr/local/lib/python3.10/dist-packages/lancedb/rerankers/cohere.py:88: FutureWarning: promote has been superseded by promote_options='default'.\n",
            "  combined_results = self.merge_results(vector_results, fts_results)\n",
            " 81%|████████  | 178/220 [00:38<00:08,  5.20it/s]/usr/local/lib/python3.10/dist-packages/lancedb/rerankers/cohere.py:88: FutureWarning: promote has been superseded by promote_options='default'.\n",
            "  combined_results = self.merge_results(vector_results, fts_results)\n",
            " 81%|████████▏ | 179/220 [00:39<00:08,  4.98it/s]/usr/local/lib/python3.10/dist-packages/lancedb/rerankers/cohere.py:88: FutureWarning: promote has been superseded by promote_options='default'.\n",
            "  combined_results = self.merge_results(vector_results, fts_results)\n",
            " 82%|████████▏ | 180/220 [00:39<00:08,  4.89it/s]/usr/local/lib/python3.10/dist-packages/lancedb/rerankers/cohere.py:88: FutureWarning: promote has been superseded by promote_options='default'.\n",
            "  combined_results = self.merge_results(vector_results, fts_results)\n",
            " 82%|████████▏ | 181/220 [00:39<00:08,  4.65it/s]/usr/local/lib/python3.10/dist-packages/lancedb/rerankers/cohere.py:88: FutureWarning: promote has been superseded by promote_options='default'.\n",
            "  combined_results = self.merge_results(vector_results, fts_results)\n",
            " 83%|████████▎ | 182/220 [00:39<00:08,  4.28it/s]/usr/local/lib/python3.10/dist-packages/lancedb/rerankers/cohere.py:88: FutureWarning: promote has been superseded by promote_options='default'.\n",
            "  combined_results = self.merge_results(vector_results, fts_results)\n",
            " 83%|████████▎ | 183/220 [00:40<00:08,  4.24it/s]/usr/local/lib/python3.10/dist-packages/lancedb/rerankers/cohere.py:88: FutureWarning: promote has been superseded by promote_options='default'.\n",
            "  combined_results = self.merge_results(vector_results, fts_results)\n",
            " 84%|████████▎ | 184/220 [00:40<00:08,  4.37it/s]/usr/local/lib/python3.10/dist-packages/lancedb/rerankers/cohere.py:88: FutureWarning: promote has been superseded by promote_options='default'.\n",
            "  combined_results = self.merge_results(vector_results, fts_results)\n",
            " 84%|████████▍ | 185/220 [00:40<00:07,  4.47it/s]/usr/local/lib/python3.10/dist-packages/lancedb/rerankers/cohere.py:88: FutureWarning: promote has been superseded by promote_options='default'.\n",
            "  combined_results = self.merge_results(vector_results, fts_results)\n",
            " 85%|████████▍ | 186/220 [00:40<00:07,  4.59it/s]/usr/local/lib/python3.10/dist-packages/lancedb/rerankers/cohere.py:88: FutureWarning: promote has been superseded by promote_options='default'.\n",
            "  combined_results = self.merge_results(vector_results, fts_results)\n",
            " 85%|████████▌ | 187/220 [00:40<00:06,  4.79it/s]/usr/local/lib/python3.10/dist-packages/lancedb/rerankers/cohere.py:88: FutureWarning: promote has been superseded by promote_options='default'.\n",
            "  combined_results = self.merge_results(vector_results, fts_results)\n",
            " 85%|████████▌ | 188/220 [00:41<00:06,  4.77it/s]/usr/local/lib/python3.10/dist-packages/lancedb/rerankers/cohere.py:88: FutureWarning: promote has been superseded by promote_options='default'.\n",
            "  combined_results = self.merge_results(vector_results, fts_results)\n",
            " 86%|████████▌ | 189/220 [00:41<00:06,  4.87it/s]/usr/local/lib/python3.10/dist-packages/lancedb/rerankers/cohere.py:88: FutureWarning: promote has been superseded by promote_options='default'.\n",
            "  combined_results = self.merge_results(vector_results, fts_results)\n",
            " 86%|████████▋ | 190/220 [00:41<00:05,  5.03it/s]/usr/local/lib/python3.10/dist-packages/lancedb/rerankers/cohere.py:88: FutureWarning: promote has been superseded by promote_options='default'.\n",
            "  combined_results = self.merge_results(vector_results, fts_results)\n",
            " 87%|████████▋ | 191/220 [00:41<00:05,  5.04it/s]/usr/local/lib/python3.10/dist-packages/lancedb/rerankers/cohere.py:88: FutureWarning: promote has been superseded by promote_options='default'.\n",
            "  combined_results = self.merge_results(vector_results, fts_results)\n",
            " 87%|████████▋ | 192/220 [00:41<00:05,  4.76it/s]/usr/local/lib/python3.10/dist-packages/lancedb/rerankers/cohere.py:88: FutureWarning: promote has been superseded by promote_options='default'.\n",
            "  combined_results = self.merge_results(vector_results, fts_results)\n",
            " 88%|████████▊ | 193/220 [00:42<00:05,  4.79it/s]/usr/local/lib/python3.10/dist-packages/lancedb/rerankers/cohere.py:88: FutureWarning: promote has been superseded by promote_options='default'.\n",
            "  combined_results = self.merge_results(vector_results, fts_results)\n",
            " 88%|████████▊ | 194/220 [00:42<00:05,  4.77it/s]/usr/local/lib/python3.10/dist-packages/lancedb/rerankers/cohere.py:88: FutureWarning: promote has been superseded by promote_options='default'.\n",
            "  combined_results = self.merge_results(vector_results, fts_results)\n",
            " 89%|████████▊ | 195/220 [00:42<00:05,  4.91it/s]/usr/local/lib/python3.10/dist-packages/lancedb/rerankers/cohere.py:88: FutureWarning: promote has been superseded by promote_options='default'.\n",
            "  combined_results = self.merge_results(vector_results, fts_results)\n",
            " 89%|████████▉ | 196/220 [00:42<00:04,  4.85it/s]/usr/local/lib/python3.10/dist-packages/lancedb/rerankers/cohere.py:88: FutureWarning: promote has been superseded by promote_options='default'.\n",
            "  combined_results = self.merge_results(vector_results, fts_results)\n",
            " 90%|████████▉ | 197/220 [00:42<00:04,  4.98it/s]/usr/local/lib/python3.10/dist-packages/lancedb/rerankers/cohere.py:88: FutureWarning: promote has been superseded by promote_options='default'.\n",
            "  combined_results = self.merge_results(vector_results, fts_results)\n",
            " 90%|█████████ | 198/220 [00:43<00:04,  5.01it/s]/usr/local/lib/python3.10/dist-packages/lancedb/rerankers/cohere.py:88: FutureWarning: promote has been superseded by promote_options='default'.\n",
            "  combined_results = self.merge_results(vector_results, fts_results)\n",
            " 90%|█████████ | 199/220 [00:43<00:04,  5.00it/s]/usr/local/lib/python3.10/dist-packages/lancedb/rerankers/cohere.py:88: FutureWarning: promote has been superseded by promote_options='default'.\n",
            "  combined_results = self.merge_results(vector_results, fts_results)\n",
            " 91%|█████████ | 200/220 [00:43<00:04,  4.99it/s]/usr/local/lib/python3.10/dist-packages/lancedb/rerankers/cohere.py:88: FutureWarning: promote has been superseded by promote_options='default'.\n",
            "  combined_results = self.merge_results(vector_results, fts_results)\n",
            " 91%|█████████▏| 201/220 [00:43<00:03,  4.94it/s]/usr/local/lib/python3.10/dist-packages/lancedb/rerankers/cohere.py:88: FutureWarning: promote has been superseded by promote_options='default'.\n",
            "  combined_results = self.merge_results(vector_results, fts_results)\n",
            " 92%|█████████▏| 202/220 [00:43<00:03,  4.97it/s]/usr/local/lib/python3.10/dist-packages/lancedb/rerankers/cohere.py:88: FutureWarning: promote has been superseded by promote_options='default'.\n",
            "  combined_results = self.merge_results(vector_results, fts_results)\n",
            " 92%|█████████▏| 203/220 [00:44<00:03,  5.11it/s]/usr/local/lib/python3.10/dist-packages/lancedb/rerankers/cohere.py:88: FutureWarning: promote has been superseded by promote_options='default'.\n",
            "  combined_results = self.merge_results(vector_results, fts_results)\n",
            " 93%|█████████▎| 204/220 [00:44<00:03,  5.09it/s]/usr/local/lib/python3.10/dist-packages/lancedb/rerankers/cohere.py:88: FutureWarning: promote has been superseded by promote_options='default'.\n",
            "  combined_results = self.merge_results(vector_results, fts_results)\n",
            " 93%|█████████▎| 205/220 [00:44<00:03,  4.85it/s]/usr/local/lib/python3.10/dist-packages/lancedb/rerankers/cohere.py:88: FutureWarning: promote has been superseded by promote_options='default'.\n",
            "  combined_results = self.merge_results(vector_results, fts_results)\n",
            " 94%|█████████▎| 206/220 [00:44<00:02,  5.07it/s]/usr/local/lib/python3.10/dist-packages/lancedb/rerankers/cohere.py:88: FutureWarning: promote has been superseded by promote_options='default'.\n",
            "  combined_results = self.merge_results(vector_results, fts_results)\n",
            " 94%|█████████▍| 207/220 [00:44<00:02,  5.05it/s]/usr/local/lib/python3.10/dist-packages/lancedb/rerankers/cohere.py:88: FutureWarning: promote has been superseded by promote_options='default'.\n",
            "  combined_results = self.merge_results(vector_results, fts_results)\n",
            " 95%|█████████▍| 208/220 [00:45<00:02,  5.01it/s]/usr/local/lib/python3.10/dist-packages/lancedb/rerankers/cohere.py:88: FutureWarning: promote has been superseded by promote_options='default'.\n",
            "  combined_results = self.merge_results(vector_results, fts_results)\n",
            " 95%|█████████▌| 209/220 [00:45<00:02,  4.65it/s]/usr/local/lib/python3.10/dist-packages/lancedb/rerankers/cohere.py:88: FutureWarning: promote has been superseded by promote_options='default'.\n",
            "  combined_results = self.merge_results(vector_results, fts_results)\n",
            " 95%|█████████▌| 210/220 [00:45<00:02,  4.77it/s]/usr/local/lib/python3.10/dist-packages/lancedb/rerankers/cohere.py:88: FutureWarning: promote has been superseded by promote_options='default'.\n",
            "  combined_results = self.merge_results(vector_results, fts_results)\n",
            " 96%|█████████▌| 211/220 [00:45<00:01,  4.91it/s]/usr/local/lib/python3.10/dist-packages/lancedb/rerankers/cohere.py:88: FutureWarning: promote has been superseded by promote_options='default'.\n",
            "  combined_results = self.merge_results(vector_results, fts_results)\n",
            " 96%|█████████▋| 212/220 [00:45<00:01,  4.97it/s]/usr/local/lib/python3.10/dist-packages/lancedb/rerankers/cohere.py:88: FutureWarning: promote has been superseded by promote_options='default'.\n",
            "  combined_results = self.merge_results(vector_results, fts_results)\n",
            " 97%|█████████▋| 213/220 [00:46<00:01,  4.94it/s]/usr/local/lib/python3.10/dist-packages/lancedb/rerankers/cohere.py:88: FutureWarning: promote has been superseded by promote_options='default'.\n",
            "  combined_results = self.merge_results(vector_results, fts_results)\n",
            " 97%|█████████▋| 214/220 [00:46<00:01,  5.16it/s]/usr/local/lib/python3.10/dist-packages/lancedb/rerankers/cohere.py:88: FutureWarning: promote has been superseded by promote_options='default'.\n",
            "  combined_results = self.merge_results(vector_results, fts_results)\n",
            " 98%|█████████▊| 215/220 [00:46<00:00,  5.13it/s]/usr/local/lib/python3.10/dist-packages/lancedb/rerankers/cohere.py:88: FutureWarning: promote has been superseded by promote_options='default'.\n",
            "  combined_results = self.merge_results(vector_results, fts_results)\n",
            " 98%|█████████▊| 216/220 [00:46<00:00,  5.12it/s]/usr/local/lib/python3.10/dist-packages/lancedb/rerankers/cohere.py:88: FutureWarning: promote has been superseded by promote_options='default'.\n",
            "  combined_results = self.merge_results(vector_results, fts_results)\n",
            " 99%|█████████▊| 217/220 [00:46<00:00,  5.24it/s]/usr/local/lib/python3.10/dist-packages/lancedb/rerankers/cohere.py:88: FutureWarning: promote has been superseded by promote_options='default'.\n",
            "  combined_results = self.merge_results(vector_results, fts_results)\n",
            " 99%|█████████▉| 218/220 [00:47<00:00,  5.33it/s]/usr/local/lib/python3.10/dist-packages/lancedb/rerankers/cohere.py:88: FutureWarning: promote has been superseded by promote_options='default'.\n",
            "  combined_results = self.merge_results(vector_results, fts_results)\n",
            "100%|█████████▉| 219/220 [00:47<00:00,  5.22it/s]/usr/local/lib/python3.10/dist-packages/lancedb/rerankers/cohere.py:88: FutureWarning: promote has been superseded by promote_options='default'.\n",
            "  combined_results = self.merge_results(vector_results, fts_results)\n",
            "100%|██████████| 220/220 [00:47<00:00,  4.63it/s]\n",
            "INFO:lancedb:Hit rate for hybrid: 0.759090909090909\n"
          ]
        },
        {
          "name": "stdout",
          "output_type": "stream",
          "text": [
            "Hit rate for hybrid: 0.759090909090909\n",
            "vector=0.6409090909090909 fts=0.5954545454545455 rerank_vector=0.6772727272727272 rerank_fts=0.6727272727272727 hybrid=0.759090909090909\n"
          ]
        }
      ],
      "source": [
        "from lancedb.rerankers import CohereReranker, LinearCombinationReranker\n",
        "\n",
        "\n",
        "#linear_combination_reranker = LinearCombinationReranker()\n",
        "cohere_reranker = CohereReranker(api_key=\"...\")\n",
        "\n",
        "#evaluate_all(\"data_qa.csv\", \"BAAI/bge-small-en-v1.5\", linear_combination_reranker)\n",
        "hit_rate_bge_cohere = evaluate_all(\"data_qa.csv\", \"BAAI/bge-small-en-v1.5\", cohere_reranker)\n"
      ]
    },
    {
      "cell_type": "code",
      "execution_count": 16,
      "metadata": {
        "colab": {
          "base_uri": "https://localhost:8080/"
        },
        "id": "s-axsDpN1PRw",
        "outputId": "78b97e9b-6a26-4997-aa38-3fad10ce45dc"
      },
      "outputs": [
        {
          "name": "stderr",
          "output_type": "stream",
          "text": [
            "INFO:lancedb:Adding 110 documents to LanceDB, in 1 batches of size 110\n"
          ]
        },
        {
          "name": "stdout",
          "output_type": "stream",
          "text": [
            "Adding 110 documents to LanceDB, in 1 batches of size 110\n"
          ]
        },
        {
          "name": "stderr",
          "output_type": "stream",
          "text": [
            "Adding batch to LanceDB: 100%|██████████| 110/110 [00:00<00:00, 132388.36it/s]\n",
            "INFO:lancedb:Adding batch 0 to LanceDB\n"
          ]
        },
        {
          "name": "stdout",
          "output_type": "stream",
          "text": [
            "Adding batch 0 to LanceDB\n"
          ]
        },
        {
          "name": "stderr",
          "output_type": "stream",
          "text": [
            "INFO:lancedb:created table with length 110\n"
          ]
        },
        {
          "name": "stdout",
          "output_type": "stream",
          "text": [
            "created table with length 110\n"
          ]
        },
        {
          "name": "stderr",
          "output_type": "stream",
          "text": [
            "INFO:lancedb:Evaluating query type: vector\n"
          ]
        },
        {
          "name": "stdout",
          "output_type": "stream",
          "text": [
            "Evaluating query type: vector\n"
          ]
        },
        {
          "name": "stderr",
          "output_type": "stream",
          "text": [
            "100%|██████████| 220/220 [00:10<00:00, 21.60it/s]\n",
            "INFO:lancedb:Hit rate for vector: 0.6727272727272727\n"
          ]
        },
        {
          "name": "stdout",
          "output_type": "stream",
          "text": [
            "Hit rate for vector: 0.6727272727272727\n"
          ]
        },
        {
          "name": "stderr",
          "output_type": "stream",
          "text": [
            "INFO:lancedb:Evaluating query type: fts\n"
          ]
        },
        {
          "name": "stdout",
          "output_type": "stream",
          "text": [
            "Evaluating query type: fts\n"
          ]
        },
        {
          "name": "stderr",
          "output_type": "stream",
          "text": [
            "100%|██████████| 220/220 [00:00<00:00, 358.44it/s]\n",
            "INFO:lancedb:Hit rate for fts: 0.5954545454545455\n"
          ]
        },
        {
          "name": "stdout",
          "output_type": "stream",
          "text": [
            "Hit rate for fts: 0.5954545454545455\n"
          ]
        },
        {
          "name": "stderr",
          "output_type": "stream",
          "text": [
            "INFO:lancedb:Evaluating query type: rerank_vector\n"
          ]
        },
        {
          "name": "stdout",
          "output_type": "stream",
          "text": [
            "Evaluating query type: rerank_vector\n"
          ]
        },
        {
          "name": "stderr",
          "output_type": "stream",
          "text": [
            "100%|██████████| 220/220 [00:48<00:00,  4.51it/s]\n",
            "INFO:lancedb:Hit rate for rerank_vector: 0.740909090909091\n"
          ]
        },
        {
          "name": "stdout",
          "output_type": "stream",
          "text": [
            "Hit rate for rerank_vector: 0.740909090909091\n"
          ]
        },
        {
          "name": "stderr",
          "output_type": "stream",
          "text": [
            "INFO:lancedb:Evaluating query type: rerank_fts\n"
          ]
        },
        {
          "name": "stdout",
          "output_type": "stream",
          "text": [
            "Evaluating query type: rerank_fts\n"
          ]
        },
        {
          "name": "stderr",
          "output_type": "stream",
          "text": [
            "100%|██████████| 220/220 [00:38<00:00,  5.66it/s]\n",
            "INFO:lancedb:Hit rate for rerank_fts: 0.6727272727272727\n"
          ]
        },
        {
          "name": "stdout",
          "output_type": "stream",
          "text": [
            "Hit rate for rerank_fts: 0.6727272727272727\n"
          ]
        },
        {
          "name": "stderr",
          "output_type": "stream",
          "text": [
            "INFO:lancedb:Evaluating query type: hybrid\n"
          ]
        },
        {
          "name": "stdout",
          "output_type": "stream",
          "text": [
            "Evaluating query type: hybrid\n"
          ]
        },
        {
          "name": "stderr",
          "output_type": "stream",
          "text": [
            "\r  0%|          | 0/220 [00:00<?, ?it/s]/usr/local/lib/python3.10/dist-packages/lancedb/rerankers/cohere.py:88: FutureWarning: promote has been superseded by promote_options='default'.\n",
            "  combined_results = self.merge_results(vector_results, fts_results)\n",
            "  0%|          | 1/220 [00:00<00:42,  5.10it/s]/usr/local/lib/python3.10/dist-packages/lancedb/rerankers/cohere.py:88: FutureWarning: promote has been superseded by promote_options='default'.\n",
            "  combined_results = self.merge_results(vector_results, fts_results)\n",
            "  1%|          | 2/220 [00:00<00:45,  4.77it/s]/usr/local/lib/python3.10/dist-packages/lancedb/rerankers/cohere.py:88: FutureWarning: promote has been superseded by promote_options='default'.\n",
            "  combined_results = self.merge_results(vector_results, fts_results)\n",
            "  1%|▏         | 3/220 [00:01<01:38,  2.21it/s]/usr/local/lib/python3.10/dist-packages/lancedb/rerankers/cohere.py:88: FutureWarning: promote has been superseded by promote_options='default'.\n",
            "  combined_results = self.merge_results(vector_results, fts_results)\n",
            "  2%|▏         | 4/220 [00:01<02:02,  1.76it/s]/usr/local/lib/python3.10/dist-packages/lancedb/rerankers/cohere.py:88: FutureWarning: promote has been superseded by promote_options='default'.\n",
            "  combined_results = self.merge_results(vector_results, fts_results)\n",
            "  2%|▏         | 5/220 [00:02<01:44,  2.05it/s]/usr/local/lib/python3.10/dist-packages/lancedb/rerankers/cohere.py:88: FutureWarning: promote has been superseded by promote_options='default'.\n",
            "  combined_results = self.merge_results(vector_results, fts_results)\n",
            "  3%|▎         | 6/220 [00:02<01:23,  2.56it/s]/usr/local/lib/python3.10/dist-packages/lancedb/rerankers/cohere.py:88: FutureWarning: promote has been superseded by promote_options='default'.\n",
            "  combined_results = self.merge_results(vector_results, fts_results)\n",
            "  3%|▎         | 7/220 [00:02<01:09,  3.06it/s]/usr/local/lib/python3.10/dist-packages/lancedb/rerankers/cohere.py:88: FutureWarning: promote has been superseded by promote_options='default'.\n",
            "  combined_results = self.merge_results(vector_results, fts_results)\n",
            "  4%|▎         | 8/220 [00:02<00:59,  3.58it/s]/usr/local/lib/python3.10/dist-packages/lancedb/rerankers/cohere.py:88: FutureWarning: promote has been superseded by promote_options='default'.\n",
            "  combined_results = self.merge_results(vector_results, fts_results)\n",
            "  4%|▍         | 9/220 [00:03<00:53,  3.95it/s]/usr/local/lib/python3.10/dist-packages/lancedb/rerankers/cohere.py:88: FutureWarning: promote has been superseded by promote_options='default'.\n",
            "  combined_results = self.merge_results(vector_results, fts_results)\n",
            "  5%|▍         | 10/220 [00:03<00:49,  4.26it/s]/usr/local/lib/python3.10/dist-packages/lancedb/rerankers/cohere.py:88: FutureWarning: promote has been superseded by promote_options='default'.\n",
            "  combined_results = self.merge_results(vector_results, fts_results)\n",
            "  5%|▌         | 11/220 [00:03<00:46,  4.46it/s]/usr/local/lib/python3.10/dist-packages/lancedb/rerankers/cohere.py:88: FutureWarning: promote has been superseded by promote_options='default'.\n",
            "  combined_results = self.merge_results(vector_results, fts_results)\n",
            "  5%|▌         | 12/220 [00:03<00:44,  4.70it/s]/usr/local/lib/python3.10/dist-packages/lancedb/rerankers/cohere.py:88: FutureWarning: promote has been superseded by promote_options='default'.\n",
            "  combined_results = self.merge_results(vector_results, fts_results)\n",
            "  6%|▌         | 13/220 [00:03<00:42,  4.89it/s]/usr/local/lib/python3.10/dist-packages/lancedb/rerankers/cohere.py:88: FutureWarning: promote has been superseded by promote_options='default'.\n",
            "  combined_results = self.merge_results(vector_results, fts_results)\n",
            "  6%|▋         | 14/220 [00:04<00:43,  4.74it/s]/usr/local/lib/python3.10/dist-packages/lancedb/rerankers/cohere.py:88: FutureWarning: promote has been superseded by promote_options='default'.\n",
            "  combined_results = self.merge_results(vector_results, fts_results)\n",
            "  7%|▋         | 15/220 [00:04<00:42,  4.85it/s]/usr/local/lib/python3.10/dist-packages/lancedb/rerankers/cohere.py:88: FutureWarning: promote has been superseded by promote_options='default'.\n",
            "  combined_results = self.merge_results(vector_results, fts_results)\n",
            "  7%|▋         | 16/220 [00:04<00:42,  4.81it/s]/usr/local/lib/python3.10/dist-packages/lancedb/rerankers/cohere.py:88: FutureWarning: promote has been superseded by promote_options='default'.\n",
            "  combined_results = self.merge_results(vector_results, fts_results)\n",
            "  8%|▊         | 17/220 [00:04<00:40,  4.95it/s]/usr/local/lib/python3.10/dist-packages/lancedb/rerankers/cohere.py:88: FutureWarning: promote has been superseded by promote_options='default'.\n",
            "  combined_results = self.merge_results(vector_results, fts_results)\n",
            "  8%|▊         | 18/220 [00:04<00:40,  5.04it/s]/usr/local/lib/python3.10/dist-packages/lancedb/rerankers/cohere.py:88: FutureWarning: promote has been superseded by promote_options='default'.\n",
            "  combined_results = self.merge_results(vector_results, fts_results)\n",
            "  9%|▊         | 19/220 [00:04<00:39,  5.07it/s]/usr/local/lib/python3.10/dist-packages/lancedb/rerankers/cohere.py:88: FutureWarning: promote has been superseded by promote_options='default'.\n",
            "  combined_results = self.merge_results(vector_results, fts_results)\n",
            "  9%|▉         | 20/220 [00:05<00:39,  5.13it/s]/usr/local/lib/python3.10/dist-packages/lancedb/rerankers/cohere.py:88: FutureWarning: promote has been superseded by promote_options='default'.\n",
            "  combined_results = self.merge_results(vector_results, fts_results)\n",
            " 10%|▉         | 21/220 [00:05<00:38,  5.11it/s]/usr/local/lib/python3.10/dist-packages/lancedb/rerankers/cohere.py:88: FutureWarning: promote has been superseded by promote_options='default'.\n",
            "  combined_results = self.merge_results(vector_results, fts_results)\n",
            " 10%|█         | 22/220 [00:05<00:41,  4.75it/s]/usr/local/lib/python3.10/dist-packages/lancedb/rerankers/cohere.py:88: FutureWarning: promote has been superseded by promote_options='default'.\n",
            "  combined_results = self.merge_results(vector_results, fts_results)\n",
            " 10%|█         | 23/220 [00:05<00:39,  4.93it/s]/usr/local/lib/python3.10/dist-packages/lancedb/rerankers/cohere.py:88: FutureWarning: promote has been superseded by promote_options='default'.\n",
            "  combined_results = self.merge_results(vector_results, fts_results)\n",
            " 11%|█         | 24/220 [00:06<00:40,  4.84it/s]/usr/local/lib/python3.10/dist-packages/lancedb/rerankers/cohere.py:88: FutureWarning: promote has been superseded by promote_options='default'.\n",
            "  combined_results = self.merge_results(vector_results, fts_results)\n",
            " 11%|█▏        | 25/220 [00:06<00:39,  4.94it/s]/usr/local/lib/python3.10/dist-packages/lancedb/rerankers/cohere.py:88: FutureWarning: promote has been superseded by promote_options='default'.\n",
            "  combined_results = self.merge_results(vector_results, fts_results)\n",
            " 12%|█▏        | 26/220 [00:06<00:38,  5.02it/s]/usr/local/lib/python3.10/dist-packages/lancedb/rerankers/cohere.py:88: FutureWarning: promote has been superseded by promote_options='default'.\n",
            "  combined_results = self.merge_results(vector_results, fts_results)\n",
            " 12%|█▏        | 27/220 [00:06<00:38,  5.05it/s]/usr/local/lib/python3.10/dist-packages/lancedb/rerankers/cohere.py:88: FutureWarning: promote has been superseded by promote_options='default'.\n",
            "  combined_results = self.merge_results(vector_results, fts_results)\n",
            " 13%|█▎        | 28/220 [00:06<00:39,  4.85it/s]/usr/local/lib/python3.10/dist-packages/lancedb/rerankers/cohere.py:88: FutureWarning: promote has been superseded by promote_options='default'.\n",
            "  combined_results = self.merge_results(vector_results, fts_results)\n",
            " 13%|█▎        | 29/220 [00:07<00:39,  4.82it/s]/usr/local/lib/python3.10/dist-packages/lancedb/rerankers/cohere.py:88: FutureWarning: promote has been superseded by promote_options='default'.\n",
            "  combined_results = self.merge_results(vector_results, fts_results)\n",
            " 14%|█▎        | 30/220 [00:07<00:38,  4.96it/s]/usr/local/lib/python3.10/dist-packages/lancedb/rerankers/cohere.py:88: FutureWarning: promote has been superseded by promote_options='default'.\n",
            "  combined_results = self.merge_results(vector_results, fts_results)\n",
            " 14%|█▍        | 31/220 [00:07<00:37,  5.03it/s]/usr/local/lib/python3.10/dist-packages/lancedb/rerankers/cohere.py:88: FutureWarning: promote has been superseded by promote_options='default'.\n",
            "  combined_results = self.merge_results(vector_results, fts_results)\n",
            " 15%|█▍        | 32/220 [00:07<00:36,  5.14it/s]/usr/local/lib/python3.10/dist-packages/lancedb/rerankers/cohere.py:88: FutureWarning: promote has been superseded by promote_options='default'.\n",
            "  combined_results = self.merge_results(vector_results, fts_results)\n",
            " 15%|█▌        | 33/220 [00:07<00:35,  5.25it/s]/usr/local/lib/python3.10/dist-packages/lancedb/rerankers/cohere.py:88: FutureWarning: promote has been superseded by promote_options='default'.\n",
            "  combined_results = self.merge_results(vector_results, fts_results)\n",
            " 15%|█▌        | 34/220 [00:07<00:34,  5.38it/s]/usr/local/lib/python3.10/dist-packages/lancedb/rerankers/cohere.py:88: FutureWarning: promote has been superseded by promote_options='default'.\n",
            "  combined_results = self.merge_results(vector_results, fts_results)\n",
            " 16%|█▌        | 35/220 [00:08<00:33,  5.47it/s]/usr/local/lib/python3.10/dist-packages/lancedb/rerankers/cohere.py:88: FutureWarning: promote has been superseded by promote_options='default'.\n",
            "  combined_results = self.merge_results(vector_results, fts_results)\n",
            " 16%|█▋        | 36/220 [00:08<00:32,  5.66it/s]/usr/local/lib/python3.10/dist-packages/lancedb/rerankers/cohere.py:88: FutureWarning: promote has been superseded by promote_options='default'.\n",
            "  combined_results = self.merge_results(vector_results, fts_results)\n",
            " 17%|█▋        | 37/220 [00:08<00:33,  5.49it/s]/usr/local/lib/python3.10/dist-packages/lancedb/rerankers/cohere.py:88: FutureWarning: promote has been superseded by promote_options='default'.\n",
            "  combined_results = self.merge_results(vector_results, fts_results)\n",
            " 17%|█▋        | 38/220 [00:08<00:33,  5.43it/s]/usr/local/lib/python3.10/dist-packages/lancedb/rerankers/cohere.py:88: FutureWarning: promote has been superseded by promote_options='default'.\n",
            "  combined_results = self.merge_results(vector_results, fts_results)\n",
            " 18%|█▊        | 39/220 [00:10<01:42,  1.76it/s]/usr/local/lib/python3.10/dist-packages/lancedb/rerankers/cohere.py:88: FutureWarning: promote has been superseded by promote_options='default'.\n",
            "  combined_results = self.merge_results(vector_results, fts_results)\n",
            " 18%|█▊        | 40/220 [00:10<01:22,  2.19it/s]/usr/local/lib/python3.10/dist-packages/lancedb/rerankers/cohere.py:88: FutureWarning: promote has been superseded by promote_options='default'.\n",
            "  combined_results = self.merge_results(vector_results, fts_results)\n",
            " 19%|█▊        | 41/220 [00:10<01:07,  2.65it/s]/usr/local/lib/python3.10/dist-packages/lancedb/rerankers/cohere.py:88: FutureWarning: promote has been superseded by promote_options='default'.\n",
            "  combined_results = self.merge_results(vector_results, fts_results)\n",
            " 19%|█▉        | 42/220 [00:10<00:56,  3.15it/s]/usr/local/lib/python3.10/dist-packages/lancedb/rerankers/cohere.py:88: FutureWarning: promote has been superseded by promote_options='default'.\n",
            "  combined_results = self.merge_results(vector_results, fts_results)\n",
            " 20%|█▉        | 43/220 [00:10<00:49,  3.58it/s]/usr/local/lib/python3.10/dist-packages/lancedb/rerankers/cohere.py:88: FutureWarning: promote has been superseded by promote_options='default'.\n",
            "  combined_results = self.merge_results(vector_results, fts_results)\n",
            " 20%|██        | 44/220 [00:11<00:43,  4.03it/s]/usr/local/lib/python3.10/dist-packages/lancedb/rerankers/cohere.py:88: FutureWarning: promote has been superseded by promote_options='default'.\n",
            "  combined_results = self.merge_results(vector_results, fts_results)\n",
            " 20%|██        | 45/220 [00:11<00:40,  4.32it/s]/usr/local/lib/python3.10/dist-packages/lancedb/rerankers/cohere.py:88: FutureWarning: promote has been superseded by promote_options='default'.\n",
            "  combined_results = self.merge_results(vector_results, fts_results)\n",
            " 21%|██        | 46/220 [00:11<00:37,  4.62it/s]/usr/local/lib/python3.10/dist-packages/lancedb/rerankers/cohere.py:88: FutureWarning: promote has been superseded by promote_options='default'.\n",
            "  combined_results = self.merge_results(vector_results, fts_results)\n",
            " 21%|██▏       | 47/220 [00:11<00:36,  4.78it/s]/usr/local/lib/python3.10/dist-packages/lancedb/rerankers/cohere.py:88: FutureWarning: promote has been superseded by promote_options='default'.\n",
            "  combined_results = self.merge_results(vector_results, fts_results)\n",
            " 22%|██▏       | 48/220 [00:11<00:36,  4.76it/s]/usr/local/lib/python3.10/dist-packages/lancedb/rerankers/cohere.py:88: FutureWarning: promote has been superseded by promote_options='default'.\n",
            "  combined_results = self.merge_results(vector_results, fts_results)\n",
            " 22%|██▏       | 49/220 [00:12<00:37,  4.55it/s]/usr/local/lib/python3.10/dist-packages/lancedb/rerankers/cohere.py:88: FutureWarning: promote has been superseded by promote_options='default'.\n",
            "  combined_results = self.merge_results(vector_results, fts_results)\n",
            " 23%|██▎       | 50/220 [00:12<00:35,  4.82it/s]/usr/local/lib/python3.10/dist-packages/lancedb/rerankers/cohere.py:88: FutureWarning: promote has been superseded by promote_options='default'.\n",
            "  combined_results = self.merge_results(vector_results, fts_results)\n",
            " 23%|██▎       | 51/220 [00:12<00:33,  5.00it/s]/usr/local/lib/python3.10/dist-packages/lancedb/rerankers/cohere.py:88: FutureWarning: promote has been superseded by promote_options='default'.\n",
            "  combined_results = self.merge_results(vector_results, fts_results)\n",
            " 24%|██▎       | 52/220 [00:12<00:34,  4.88it/s]/usr/local/lib/python3.10/dist-packages/lancedb/rerankers/cohere.py:88: FutureWarning: promote has been superseded by promote_options='default'.\n",
            "  combined_results = self.merge_results(vector_results, fts_results)\n",
            " 24%|██▍       | 53/220 [00:12<00:36,  4.60it/s]/usr/local/lib/python3.10/dist-packages/lancedb/rerankers/cohere.py:88: FutureWarning: promote has been superseded by promote_options='default'.\n",
            "  combined_results = self.merge_results(vector_results, fts_results)\n",
            " 25%|██▍       | 54/220 [00:13<00:37,  4.44it/s]/usr/local/lib/python3.10/dist-packages/lancedb/rerankers/cohere.py:88: FutureWarning: promote has been superseded by promote_options='default'.\n",
            "  combined_results = self.merge_results(vector_results, fts_results)\n",
            " 25%|██▌       | 55/220 [00:13<00:37,  4.40it/s]/usr/local/lib/python3.10/dist-packages/lancedb/rerankers/cohere.py:88: FutureWarning: promote has been superseded by promote_options='default'.\n",
            "  combined_results = self.merge_results(vector_results, fts_results)\n",
            " 25%|██▌       | 56/220 [00:13<00:36,  4.53it/s]/usr/local/lib/python3.10/dist-packages/lancedb/rerankers/cohere.py:88: FutureWarning: promote has been superseded by promote_options='default'.\n",
            "  combined_results = self.merge_results(vector_results, fts_results)\n",
            " 26%|██▌       | 57/220 [00:13<00:33,  4.80it/s]/usr/local/lib/python3.10/dist-packages/lancedb/rerankers/cohere.py:88: FutureWarning: promote has been superseded by promote_options='default'.\n",
            "  combined_results = self.merge_results(vector_results, fts_results)\n",
            " 26%|██▋       | 58/220 [00:13<00:32,  4.98it/s]/usr/local/lib/python3.10/dist-packages/lancedb/rerankers/cohere.py:88: FutureWarning: promote has been superseded by promote_options='default'.\n",
            "  combined_results = self.merge_results(vector_results, fts_results)\n",
            " 27%|██▋       | 59/220 [00:14<00:30,  5.21it/s]/usr/local/lib/python3.10/dist-packages/lancedb/rerankers/cohere.py:88: FutureWarning: promote has been superseded by promote_options='default'.\n",
            "  combined_results = self.merge_results(vector_results, fts_results)\n",
            " 27%|██▋       | 60/220 [00:14<00:31,  5.11it/s]/usr/local/lib/python3.10/dist-packages/lancedb/rerankers/cohere.py:88: FutureWarning: promote has been superseded by promote_options='default'.\n",
            "  combined_results = self.merge_results(vector_results, fts_results)\n",
            " 28%|██▊       | 61/220 [00:14<00:30,  5.20it/s]/usr/local/lib/python3.10/dist-packages/lancedb/rerankers/cohere.py:88: FutureWarning: promote has been superseded by promote_options='default'.\n",
            "  combined_results = self.merge_results(vector_results, fts_results)\n",
            " 28%|██▊       | 62/220 [00:14<00:30,  5.23it/s]/usr/local/lib/python3.10/dist-packages/lancedb/rerankers/cohere.py:88: FutureWarning: promote has been superseded by promote_options='default'.\n",
            "  combined_results = self.merge_results(vector_results, fts_results)\n",
            " 29%|██▊       | 63/220 [00:14<00:29,  5.32it/s]/usr/local/lib/python3.10/dist-packages/lancedb/rerankers/cohere.py:88: FutureWarning: promote has been superseded by promote_options='default'.\n",
            "  combined_results = self.merge_results(vector_results, fts_results)\n",
            " 29%|██▉       | 64/220 [00:15<00:29,  5.33it/s]/usr/local/lib/python3.10/dist-packages/lancedb/rerankers/cohere.py:88: FutureWarning: promote has been superseded by promote_options='default'.\n",
            "  combined_results = self.merge_results(vector_results, fts_results)\n",
            " 30%|██▉       | 65/220 [00:15<00:27,  5.56it/s]/usr/local/lib/python3.10/dist-packages/lancedb/rerankers/cohere.py:88: FutureWarning: promote has been superseded by promote_options='default'.\n",
            "  combined_results = self.merge_results(vector_results, fts_results)\n",
            " 30%|███       | 66/220 [00:15<00:29,  5.17it/s]/usr/local/lib/python3.10/dist-packages/lancedb/rerankers/cohere.py:88: FutureWarning: promote has been superseded by promote_options='default'.\n",
            "  combined_results = self.merge_results(vector_results, fts_results)\n",
            " 30%|███       | 67/220 [00:16<00:51,  2.95it/s]/usr/local/lib/python3.10/dist-packages/lancedb/rerankers/cohere.py:88: FutureWarning: promote has been superseded by promote_options='default'.\n",
            "  combined_results = self.merge_results(vector_results, fts_results)\n",
            " 31%|███       | 68/220 [00:16<00:44,  3.44it/s]/usr/local/lib/python3.10/dist-packages/lancedb/rerankers/cohere.py:88: FutureWarning: promote has been superseded by promote_options='default'.\n",
            "  combined_results = self.merge_results(vector_results, fts_results)\n",
            " 31%|███▏      | 69/220 [00:17<01:26,  1.74it/s]/usr/local/lib/python3.10/dist-packages/lancedb/rerankers/cohere.py:88: FutureWarning: promote has been superseded by promote_options='default'.\n",
            "  combined_results = self.merge_results(vector_results, fts_results)\n",
            " 32%|███▏      | 70/220 [00:18<01:23,  1.79it/s]/usr/local/lib/python3.10/dist-packages/lancedb/rerankers/cohere.py:88: FutureWarning: promote has been superseded by promote_options='default'.\n",
            "  combined_results = self.merge_results(vector_results, fts_results)\n",
            " 32%|███▏      | 71/220 [00:18<01:19,  1.86it/s]/usr/local/lib/python3.10/dist-packages/lancedb/rerankers/cohere.py:88: FutureWarning: promote has been superseded by promote_options='default'.\n",
            "  combined_results = self.merge_results(vector_results, fts_results)\n",
            " 33%|███▎      | 72/220 [00:18<01:03,  2.31it/s]/usr/local/lib/python3.10/dist-packages/lancedb/rerankers/cohere.py:88: FutureWarning: promote has been superseded by promote_options='default'.\n",
            "  combined_results = self.merge_results(vector_results, fts_results)\n",
            " 33%|███▎      | 73/220 [00:18<00:53,  2.74it/s]/usr/local/lib/python3.10/dist-packages/lancedb/rerankers/cohere.py:88: FutureWarning: promote has been superseded by promote_options='default'.\n",
            "  combined_results = self.merge_results(vector_results, fts_results)\n",
            " 34%|███▎      | 74/220 [00:19<00:45,  3.23it/s]/usr/local/lib/python3.10/dist-packages/lancedb/rerankers/cohere.py:88: FutureWarning: promote has been superseded by promote_options='default'.\n",
            "  combined_results = self.merge_results(vector_results, fts_results)\n",
            " 34%|███▍      | 75/220 [00:19<00:39,  3.68it/s]/usr/local/lib/python3.10/dist-packages/lancedb/rerankers/cohere.py:88: FutureWarning: promote has been superseded by promote_options='default'.\n",
            "  combined_results = self.merge_results(vector_results, fts_results)\n",
            " 35%|███▍      | 76/220 [00:19<00:35,  4.02it/s]/usr/local/lib/python3.10/dist-packages/lancedb/rerankers/cohere.py:88: FutureWarning: promote has been superseded by promote_options='default'.\n",
            "  combined_results = self.merge_results(vector_results, fts_results)\n",
            " 35%|███▌      | 77/220 [00:19<00:33,  4.33it/s]/usr/local/lib/python3.10/dist-packages/lancedb/rerankers/cohere.py:88: FutureWarning: promote has been superseded by promote_options='default'.\n",
            "  combined_results = self.merge_results(vector_results, fts_results)\n",
            " 35%|███▌      | 78/220 [00:19<00:30,  4.62it/s]/usr/local/lib/python3.10/dist-packages/lancedb/rerankers/cohere.py:88: FutureWarning: promote has been superseded by promote_options='default'.\n",
            "  combined_results = self.merge_results(vector_results, fts_results)\n",
            " 36%|███▌      | 79/220 [00:20<00:28,  4.87it/s]/usr/local/lib/python3.10/dist-packages/lancedb/rerankers/cohere.py:88: FutureWarning: promote has been superseded by promote_options='default'.\n",
            "  combined_results = self.merge_results(vector_results, fts_results)\n",
            " 36%|███▋      | 80/220 [00:20<00:28,  4.95it/s]/usr/local/lib/python3.10/dist-packages/lancedb/rerankers/cohere.py:88: FutureWarning: promote has been superseded by promote_options='default'.\n",
            "  combined_results = self.merge_results(vector_results, fts_results)\n",
            " 37%|███▋      | 81/220 [00:20<00:27,  5.02it/s]/usr/local/lib/python3.10/dist-packages/lancedb/rerankers/cohere.py:88: FutureWarning: promote has been superseded by promote_options='default'.\n",
            "  combined_results = self.merge_results(vector_results, fts_results)\n",
            " 37%|███▋      | 82/220 [00:20<00:29,  4.68it/s]/usr/local/lib/python3.10/dist-packages/lancedb/rerankers/cohere.py:88: FutureWarning: promote has been superseded by promote_options='default'.\n",
            "  combined_results = self.merge_results(vector_results, fts_results)\n",
            " 38%|███▊      | 83/220 [00:20<00:28,  4.84it/s]/usr/local/lib/python3.10/dist-packages/lancedb/rerankers/cohere.py:88: FutureWarning: promote has been superseded by promote_options='default'.\n",
            "  combined_results = self.merge_results(vector_results, fts_results)\n",
            " 38%|███▊      | 84/220 [00:21<00:27,  4.98it/s]/usr/local/lib/python3.10/dist-packages/lancedb/rerankers/cohere.py:88: FutureWarning: promote has been superseded by promote_options='default'.\n",
            "  combined_results = self.merge_results(vector_results, fts_results)\n",
            " 39%|███▊      | 85/220 [00:21<00:27,  4.95it/s]/usr/local/lib/python3.10/dist-packages/lancedb/rerankers/cohere.py:88: FutureWarning: promote has been superseded by promote_options='default'.\n",
            "  combined_results = self.merge_results(vector_results, fts_results)\n",
            " 39%|███▉      | 86/220 [00:21<00:27,  4.90it/s]/usr/local/lib/python3.10/dist-packages/lancedb/rerankers/cohere.py:88: FutureWarning: promote has been superseded by promote_options='default'.\n",
            "  combined_results = self.merge_results(vector_results, fts_results)\n",
            " 40%|███▉      | 87/220 [00:21<00:27,  4.87it/s]/usr/local/lib/python3.10/dist-packages/lancedb/rerankers/cohere.py:88: FutureWarning: promote has been superseded by promote_options='default'.\n",
            "  combined_results = self.merge_results(vector_results, fts_results)\n",
            " 40%|████      | 88/220 [00:21<00:26,  4.97it/s]/usr/local/lib/python3.10/dist-packages/lancedb/rerankers/cohere.py:88: FutureWarning: promote has been superseded by promote_options='default'.\n",
            "  combined_results = self.merge_results(vector_results, fts_results)\n",
            " 40%|████      | 89/220 [00:22<00:25,  5.10it/s]/usr/local/lib/python3.10/dist-packages/lancedb/rerankers/cohere.py:88: FutureWarning: promote has been superseded by promote_options='default'.\n",
            "  combined_results = self.merge_results(vector_results, fts_results)\n",
            " 41%|████      | 90/220 [00:22<00:25,  5.11it/s]/usr/local/lib/python3.10/dist-packages/lancedb/rerankers/cohere.py:88: FutureWarning: promote has been superseded by promote_options='default'.\n",
            "  combined_results = self.merge_results(vector_results, fts_results)\n",
            " 41%|████▏     | 91/220 [00:22<00:25,  5.01it/s]/usr/local/lib/python3.10/dist-packages/lancedb/rerankers/cohere.py:88: FutureWarning: promote has been superseded by promote_options='default'.\n",
            "  combined_results = self.merge_results(vector_results, fts_results)\n",
            " 42%|████▏     | 92/220 [00:22<00:25,  4.94it/s]/usr/local/lib/python3.10/dist-packages/lancedb/rerankers/cohere.py:88: FutureWarning: promote has been superseded by promote_options='default'.\n",
            "  combined_results = self.merge_results(vector_results, fts_results)\n",
            " 42%|████▏     | 93/220 [00:22<00:25,  5.06it/s]/usr/local/lib/python3.10/dist-packages/lancedb/rerankers/cohere.py:88: FutureWarning: promote has been superseded by promote_options='default'.\n",
            "  combined_results = self.merge_results(vector_results, fts_results)\n",
            " 43%|████▎     | 94/220 [00:23<00:24,  5.09it/s]/usr/local/lib/python3.10/dist-packages/lancedb/rerankers/cohere.py:88: FutureWarning: promote has been superseded by promote_options='default'.\n",
            "  combined_results = self.merge_results(vector_results, fts_results)\n",
            " 43%|████▎     | 95/220 [00:23<00:24,  5.06it/s]/usr/local/lib/python3.10/dist-packages/lancedb/rerankers/cohere.py:88: FutureWarning: promote has been superseded by promote_options='default'.\n",
            "  combined_results = self.merge_results(vector_results, fts_results)\n",
            " 44%|████▎     | 96/220 [00:23<00:23,  5.19it/s]/usr/local/lib/python3.10/dist-packages/lancedb/rerankers/cohere.py:88: FutureWarning: promote has been superseded by promote_options='default'.\n",
            "  combined_results = self.merge_results(vector_results, fts_results)\n",
            " 44%|████▍     | 97/220 [00:23<00:24,  4.93it/s]/usr/local/lib/python3.10/dist-packages/lancedb/rerankers/cohere.py:88: FutureWarning: promote has been superseded by promote_options='default'.\n",
            "  combined_results = self.merge_results(vector_results, fts_results)\n",
            " 45%|████▍     | 98/220 [00:23<00:25,  4.85it/s]/usr/local/lib/python3.10/dist-packages/lancedb/rerankers/cohere.py:88: FutureWarning: promote has been superseded by promote_options='default'.\n",
            "  combined_results = self.merge_results(vector_results, fts_results)\n",
            " 45%|████▌     | 99/220 [00:24<00:25,  4.83it/s]/usr/local/lib/python3.10/dist-packages/lancedb/rerankers/cohere.py:88: FutureWarning: promote has been superseded by promote_options='default'.\n",
            "  combined_results = self.merge_results(vector_results, fts_results)\n",
            " 45%|████▌     | 100/220 [00:24<00:25,  4.74it/s]/usr/local/lib/python3.10/dist-packages/lancedb/rerankers/cohere.py:88: FutureWarning: promote has been superseded by promote_options='default'.\n",
            "  combined_results = self.merge_results(vector_results, fts_results)\n",
            " 46%|████▌     | 101/220 [00:24<00:25,  4.65it/s]/usr/local/lib/python3.10/dist-packages/lancedb/rerankers/cohere.py:88: FutureWarning: promote has been superseded by promote_options='default'.\n",
            "  combined_results = self.merge_results(vector_results, fts_results)\n",
            " 46%|████▋     | 102/220 [00:24<00:26,  4.48it/s]/usr/local/lib/python3.10/dist-packages/lancedb/rerankers/cohere.py:88: FutureWarning: promote has been superseded by promote_options='default'.\n",
            "  combined_results = self.merge_results(vector_results, fts_results)\n",
            " 47%|████▋     | 103/220 [00:25<00:26,  4.46it/s]/usr/local/lib/python3.10/dist-packages/lancedb/rerankers/cohere.py:88: FutureWarning: promote has been superseded by promote_options='default'.\n",
            "  combined_results = self.merge_results(vector_results, fts_results)\n",
            " 47%|████▋     | 104/220 [00:25<00:25,  4.57it/s]/usr/local/lib/python3.10/dist-packages/lancedb/rerankers/cohere.py:88: FutureWarning: promote has been superseded by promote_options='default'.\n",
            "  combined_results = self.merge_results(vector_results, fts_results)\n",
            " 48%|████▊     | 105/220 [00:25<00:24,  4.72it/s]/usr/local/lib/python3.10/dist-packages/lancedb/rerankers/cohere.py:88: FutureWarning: promote has been superseded by promote_options='default'.\n",
            "  combined_results = self.merge_results(vector_results, fts_results)\n",
            " 48%|████▊     | 106/220 [00:25<00:23,  4.76it/s]/usr/local/lib/python3.10/dist-packages/lancedb/rerankers/cohere.py:88: FutureWarning: promote has been superseded by promote_options='default'.\n",
            "  combined_results = self.merge_results(vector_results, fts_results)\n",
            " 49%|████▊     | 107/220 [00:25<00:23,  4.72it/s]/usr/local/lib/python3.10/dist-packages/lancedb/rerankers/cohere.py:88: FutureWarning: promote has been superseded by promote_options='default'.\n",
            "  combined_results = self.merge_results(vector_results, fts_results)\n",
            " 49%|████▉     | 108/220 [00:26<00:22,  4.87it/s]/usr/local/lib/python3.10/dist-packages/lancedb/rerankers/cohere.py:88: FutureWarning: promote has been superseded by promote_options='default'.\n",
            "  combined_results = self.merge_results(vector_results, fts_results)\n",
            " 50%|████▉     | 109/220 [00:26<00:22,  4.88it/s]/usr/local/lib/python3.10/dist-packages/lancedb/rerankers/cohere.py:88: FutureWarning: promote has been superseded by promote_options='default'.\n",
            "  combined_results = self.merge_results(vector_results, fts_results)\n",
            " 50%|█████     | 110/220 [00:26<00:22,  4.94it/s]/usr/local/lib/python3.10/dist-packages/lancedb/rerankers/cohere.py:88: FutureWarning: promote has been superseded by promote_options='default'.\n",
            "  combined_results = self.merge_results(vector_results, fts_results)\n",
            " 50%|█████     | 111/220 [00:26<00:21,  4.98it/s]/usr/local/lib/python3.10/dist-packages/lancedb/rerankers/cohere.py:88: FutureWarning: promote has been superseded by promote_options='default'.\n",
            "  combined_results = self.merge_results(vector_results, fts_results)\n",
            " 51%|█████     | 112/220 [00:26<00:21,  5.04it/s]/usr/local/lib/python3.10/dist-packages/lancedb/rerankers/cohere.py:88: FutureWarning: promote has been superseded by promote_options='default'.\n",
            "  combined_results = self.merge_results(vector_results, fts_results)\n",
            " 51%|█████▏    | 113/220 [00:27<00:21,  4.94it/s]/usr/local/lib/python3.10/dist-packages/lancedb/rerankers/cohere.py:88: FutureWarning: promote has been superseded by promote_options='default'.\n",
            "  combined_results = self.merge_results(vector_results, fts_results)\n",
            " 52%|█████▏    | 114/220 [00:27<00:20,  5.06it/s]/usr/local/lib/python3.10/dist-packages/lancedb/rerankers/cohere.py:88: FutureWarning: promote has been superseded by promote_options='default'.\n",
            "  combined_results = self.merge_results(vector_results, fts_results)\n",
            " 52%|█████▏    | 115/220 [00:27<00:21,  4.91it/s]/usr/local/lib/python3.10/dist-packages/lancedb/rerankers/cohere.py:88: FutureWarning: promote has been superseded by promote_options='default'.\n",
            "  combined_results = self.merge_results(vector_results, fts_results)\n",
            " 53%|█████▎    | 116/220 [00:27<00:20,  5.06it/s]/usr/local/lib/python3.10/dist-packages/lancedb/rerankers/cohere.py:88: FutureWarning: promote has been superseded by promote_options='default'.\n",
            "  combined_results = self.merge_results(vector_results, fts_results)\n",
            " 53%|█████▎    | 117/220 [00:27<00:19,  5.18it/s]/usr/local/lib/python3.10/dist-packages/lancedb/rerankers/cohere.py:88: FutureWarning: promote has been superseded by promote_options='default'.\n",
            "  combined_results = self.merge_results(vector_results, fts_results)\n",
            " 54%|█████▎    | 118/220 [00:28<00:19,  5.16it/s]/usr/local/lib/python3.10/dist-packages/lancedb/rerankers/cohere.py:88: FutureWarning: promote has been superseded by promote_options='default'.\n",
            "  combined_results = self.merge_results(vector_results, fts_results)\n",
            " 54%|█████▍    | 119/220 [00:28<00:19,  5.20it/s]/usr/local/lib/python3.10/dist-packages/lancedb/rerankers/cohere.py:88: FutureWarning: promote has been superseded by promote_options='default'.\n",
            "  combined_results = self.merge_results(vector_results, fts_results)\n",
            " 55%|█████▍    | 120/220 [00:28<00:18,  5.35it/s]/usr/local/lib/python3.10/dist-packages/lancedb/rerankers/cohere.py:88: FutureWarning: promote has been superseded by promote_options='default'.\n",
            "  combined_results = self.merge_results(vector_results, fts_results)\n",
            " 55%|█████▌    | 121/220 [00:28<00:18,  5.27it/s]/usr/local/lib/python3.10/dist-packages/lancedb/rerankers/cohere.py:88: FutureWarning: promote has been superseded by promote_options='default'.\n",
            "  combined_results = self.merge_results(vector_results, fts_results)\n",
            " 55%|█████▌    | 122/220 [00:28<00:21,  4.50it/s]/usr/local/lib/python3.10/dist-packages/lancedb/rerankers/cohere.py:88: FutureWarning: promote has been superseded by promote_options='default'.\n",
            "  combined_results = self.merge_results(vector_results, fts_results)\n",
            " 56%|█████▌    | 123/220 [00:29<00:20,  4.72it/s]/usr/local/lib/python3.10/dist-packages/lancedb/rerankers/cohere.py:88: FutureWarning: promote has been superseded by promote_options='default'.\n",
            "  combined_results = self.merge_results(vector_results, fts_results)\n",
            " 56%|█████▋    | 124/220 [00:29<00:19,  4.90it/s]/usr/local/lib/python3.10/dist-packages/lancedb/rerankers/cohere.py:88: FutureWarning: promote has been superseded by promote_options='default'.\n",
            "  combined_results = self.merge_results(vector_results, fts_results)\n",
            " 57%|█████▋    | 125/220 [00:29<00:19,  4.97it/s]/usr/local/lib/python3.10/dist-packages/lancedb/rerankers/cohere.py:88: FutureWarning: promote has been superseded by promote_options='default'.\n",
            "  combined_results = self.merge_results(vector_results, fts_results)\n",
            " 57%|█████▋    | 126/220 [00:29<00:18,  5.05it/s]/usr/local/lib/python3.10/dist-packages/lancedb/rerankers/cohere.py:88: FutureWarning: promote has been superseded by promote_options='default'.\n",
            "  combined_results = self.merge_results(vector_results, fts_results)\n",
            " 58%|█████▊    | 127/220 [00:29<00:18,  5.09it/s]/usr/local/lib/python3.10/dist-packages/lancedb/rerankers/cohere.py:88: FutureWarning: promote has been superseded by promote_options='default'.\n",
            "  combined_results = self.merge_results(vector_results, fts_results)\n",
            " 58%|█████▊    | 128/220 [00:30<00:19,  4.78it/s]/usr/local/lib/python3.10/dist-packages/lancedb/rerankers/cohere.py:88: FutureWarning: promote has been superseded by promote_options='default'.\n",
            "  combined_results = self.merge_results(vector_results, fts_results)\n",
            " 59%|█████▊    | 129/220 [00:30<00:18,  4.86it/s]/usr/local/lib/python3.10/dist-packages/lancedb/rerankers/cohere.py:88: FutureWarning: promote has been superseded by promote_options='default'.\n",
            "  combined_results = self.merge_results(vector_results, fts_results)\n",
            " 59%|█████▉    | 130/220 [00:30<00:18,  4.89it/s]/usr/local/lib/python3.10/dist-packages/lancedb/rerankers/cohere.py:88: FutureWarning: promote has been superseded by promote_options='default'.\n",
            "  combined_results = self.merge_results(vector_results, fts_results)\n",
            " 60%|█████▉    | 131/220 [00:30<00:17,  4.99it/s]/usr/local/lib/python3.10/dist-packages/lancedb/rerankers/cohere.py:88: FutureWarning: promote has been superseded by promote_options='default'.\n",
            "  combined_results = self.merge_results(vector_results, fts_results)\n",
            " 60%|██████    | 132/220 [00:30<00:17,  4.95it/s]/usr/local/lib/python3.10/dist-packages/lancedb/rerankers/cohere.py:88: FutureWarning: promote has been superseded by promote_options='default'.\n",
            "  combined_results = self.merge_results(vector_results, fts_results)\n",
            " 60%|██████    | 133/220 [00:31<00:18,  4.76it/s]/usr/local/lib/python3.10/dist-packages/lancedb/rerankers/cohere.py:88: FutureWarning: promote has been superseded by promote_options='default'.\n",
            "  combined_results = self.merge_results(vector_results, fts_results)\n",
            " 61%|██████    | 134/220 [00:31<00:17,  4.91it/s]/usr/local/lib/python3.10/dist-packages/lancedb/rerankers/cohere.py:88: FutureWarning: promote has been superseded by promote_options='default'.\n",
            "  combined_results = self.merge_results(vector_results, fts_results)\n",
            " 61%|██████▏   | 135/220 [00:31<00:16,  5.02it/s]/usr/local/lib/python3.10/dist-packages/lancedb/rerankers/cohere.py:88: FutureWarning: promote has been superseded by promote_options='default'.\n",
            "  combined_results = self.merge_results(vector_results, fts_results)\n",
            " 62%|██████▏   | 136/220 [00:31<00:17,  4.94it/s]/usr/local/lib/python3.10/dist-packages/lancedb/rerankers/cohere.py:88: FutureWarning: promote has been superseded by promote_options='default'.\n",
            "  combined_results = self.merge_results(vector_results, fts_results)\n",
            " 62%|██████▏   | 137/220 [00:31<00:16,  5.00it/s]/usr/local/lib/python3.10/dist-packages/lancedb/rerankers/cohere.py:88: FutureWarning: promote has been superseded by promote_options='default'.\n",
            "  combined_results = self.merge_results(vector_results, fts_results)\n",
            " 63%|██████▎   | 138/220 [00:32<00:15,  5.25it/s]/usr/local/lib/python3.10/dist-packages/lancedb/rerankers/cohere.py:88: FutureWarning: promote has been superseded by promote_options='default'.\n",
            "  combined_results = self.merge_results(vector_results, fts_results)\n",
            " 63%|██████▎   | 139/220 [00:32<00:15,  5.29it/s]/usr/local/lib/python3.10/dist-packages/lancedb/rerankers/cohere.py:88: FutureWarning: promote has been superseded by promote_options='default'.\n",
            "  combined_results = self.merge_results(vector_results, fts_results)\n",
            " 64%|██████▎   | 140/220 [00:32<00:15,  5.03it/s]/usr/local/lib/python3.10/dist-packages/lancedb/rerankers/cohere.py:88: FutureWarning: promote has been superseded by promote_options='default'.\n",
            "  combined_results = self.merge_results(vector_results, fts_results)\n",
            " 64%|██████▍   | 141/220 [00:32<00:21,  3.74it/s]/usr/local/lib/python3.10/dist-packages/lancedb/rerankers/cohere.py:88: FutureWarning: promote has been superseded by promote_options='default'.\n",
            "  combined_results = self.merge_results(vector_results, fts_results)\n",
            " 65%|██████▍   | 142/220 [00:33<00:18,  4.17it/s]/usr/local/lib/python3.10/dist-packages/lancedb/rerankers/cohere.py:88: FutureWarning: promote has been superseded by promote_options='default'.\n",
            "  combined_results = self.merge_results(vector_results, fts_results)\n",
            " 65%|██████▌   | 143/220 [00:33<00:17,  4.43it/s]/usr/local/lib/python3.10/dist-packages/lancedb/rerankers/cohere.py:88: FutureWarning: promote has been superseded by promote_options='default'.\n",
            "  combined_results = self.merge_results(vector_results, fts_results)\n",
            " 65%|██████▌   | 144/220 [00:33<00:16,  4.61it/s]/usr/local/lib/python3.10/dist-packages/lancedb/rerankers/cohere.py:88: FutureWarning: promote has been superseded by promote_options='default'.\n",
            "  combined_results = self.merge_results(vector_results, fts_results)\n",
            " 66%|██████▌   | 145/220 [00:33<00:15,  4.82it/s]/usr/local/lib/python3.10/dist-packages/lancedb/rerankers/cohere.py:88: FutureWarning: promote has been superseded by promote_options='default'.\n",
            "  combined_results = self.merge_results(vector_results, fts_results)\n",
            " 66%|██████▋   | 146/220 [00:33<00:15,  4.74it/s]/usr/local/lib/python3.10/dist-packages/lancedb/rerankers/cohere.py:88: FutureWarning: promote has been superseded by promote_options='default'.\n",
            "  combined_results = self.merge_results(vector_results, fts_results)\n",
            " 67%|██████▋   | 147/220 [00:34<00:15,  4.78it/s]/usr/local/lib/python3.10/dist-packages/lancedb/rerankers/cohere.py:88: FutureWarning: promote has been superseded by promote_options='default'.\n",
            "  combined_results = self.merge_results(vector_results, fts_results)\n",
            " 67%|██████▋   | 148/220 [00:34<00:14,  4.83it/s]/usr/local/lib/python3.10/dist-packages/lancedb/rerankers/cohere.py:88: FutureWarning: promote has been superseded by promote_options='default'.\n",
            "  combined_results = self.merge_results(vector_results, fts_results)\n",
            " 68%|██████▊   | 149/220 [00:34<00:14,  4.85it/s]/usr/local/lib/python3.10/dist-packages/lancedb/rerankers/cohere.py:88: FutureWarning: promote has been superseded by promote_options='default'.\n",
            "  combined_results = self.merge_results(vector_results, fts_results)\n",
            " 68%|██████▊   | 150/220 [00:34<00:13,  5.04it/s]/usr/local/lib/python3.10/dist-packages/lancedb/rerankers/cohere.py:88: FutureWarning: promote has been superseded by promote_options='default'.\n",
            "  combined_results = self.merge_results(vector_results, fts_results)\n",
            " 69%|██████▊   | 151/220 [00:34<00:14,  4.86it/s]/usr/local/lib/python3.10/dist-packages/lancedb/rerankers/cohere.py:88: FutureWarning: promote has been superseded by promote_options='default'.\n",
            "  combined_results = self.merge_results(vector_results, fts_results)\n",
            " 69%|██████▉   | 152/220 [00:35<00:14,  4.85it/s]/usr/local/lib/python3.10/dist-packages/lancedb/rerankers/cohere.py:88: FutureWarning: promote has been superseded by promote_options='default'.\n",
            "  combined_results = self.merge_results(vector_results, fts_results)\n",
            " 70%|██████▉   | 153/220 [00:35<00:13,  4.98it/s]/usr/local/lib/python3.10/dist-packages/lancedb/rerankers/cohere.py:88: FutureWarning: promote has been superseded by promote_options='default'.\n",
            "  combined_results = self.merge_results(vector_results, fts_results)\n",
            " 70%|███████   | 154/220 [00:35<00:13,  4.92it/s]/usr/local/lib/python3.10/dist-packages/lancedb/rerankers/cohere.py:88: FutureWarning: promote has been superseded by promote_options='default'.\n",
            "  combined_results = self.merge_results(vector_results, fts_results)\n",
            " 70%|███████   | 155/220 [00:35<00:13,  4.97it/s]/usr/local/lib/python3.10/dist-packages/lancedb/rerankers/cohere.py:88: FutureWarning: promote has been superseded by promote_options='default'.\n",
            "  combined_results = self.merge_results(vector_results, fts_results)\n",
            " 71%|███████   | 156/220 [00:35<00:13,  4.83it/s]/usr/local/lib/python3.10/dist-packages/lancedb/rerankers/cohere.py:88: FutureWarning: promote has been superseded by promote_options='default'.\n",
            "  combined_results = self.merge_results(vector_results, fts_results)\n",
            " 71%|███████▏  | 157/220 [00:36<00:13,  4.76it/s]/usr/local/lib/python3.10/dist-packages/lancedb/rerankers/cohere.py:88: FutureWarning: promote has been superseded by promote_options='default'.\n",
            "  combined_results = self.merge_results(vector_results, fts_results)\n",
            " 72%|███████▏  | 158/220 [00:36<00:12,  4.79it/s]/usr/local/lib/python3.10/dist-packages/lancedb/rerankers/cohere.py:88: FutureWarning: promote has been superseded by promote_options='default'.\n",
            "  combined_results = self.merge_results(vector_results, fts_results)\n",
            " 72%|███████▏  | 159/220 [00:36<00:12,  4.74it/s]/usr/local/lib/python3.10/dist-packages/lancedb/rerankers/cohere.py:88: FutureWarning: promote has been superseded by promote_options='default'.\n",
            "  combined_results = self.merge_results(vector_results, fts_results)\n",
            " 73%|███████▎  | 160/220 [00:36<00:17,  3.52it/s]/usr/local/lib/python3.10/dist-packages/lancedb/rerankers/cohere.py:88: FutureWarning: promote has been superseded by promote_options='default'.\n",
            "  combined_results = self.merge_results(vector_results, fts_results)\n",
            " 73%|███████▎  | 161/220 [00:37<00:15,  3.84it/s]/usr/local/lib/python3.10/dist-packages/lancedb/rerankers/cohere.py:88: FutureWarning: promote has been superseded by promote_options='default'.\n",
            "  combined_results = self.merge_results(vector_results, fts_results)\n",
            " 74%|███████▎  | 162/220 [00:37<00:13,  4.18it/s]/usr/local/lib/python3.10/dist-packages/lancedb/rerankers/cohere.py:88: FutureWarning: promote has been superseded by promote_options='default'.\n",
            "  combined_results = self.merge_results(vector_results, fts_results)\n",
            " 74%|███████▍  | 163/220 [00:37<00:12,  4.48it/s]/usr/local/lib/python3.10/dist-packages/lancedb/rerankers/cohere.py:88: FutureWarning: promote has been superseded by promote_options='default'.\n",
            "  combined_results = self.merge_results(vector_results, fts_results)\n",
            " 75%|███████▍  | 164/220 [00:37<00:12,  4.60it/s]/usr/local/lib/python3.10/dist-packages/lancedb/rerankers/cohere.py:88: FutureWarning: promote has been superseded by promote_options='default'.\n",
            "  combined_results = self.merge_results(vector_results, fts_results)\n",
            " 75%|███████▌  | 165/220 [00:37<00:11,  4.81it/s]/usr/local/lib/python3.10/dist-packages/lancedb/rerankers/cohere.py:88: FutureWarning: promote has been superseded by promote_options='default'.\n",
            "  combined_results = self.merge_results(vector_results, fts_results)\n",
            " 75%|███████▌  | 166/220 [00:38<00:10,  5.10it/s]/usr/local/lib/python3.10/dist-packages/lancedb/rerankers/cohere.py:88: FutureWarning: promote has been superseded by promote_options='default'.\n",
            "  combined_results = self.merge_results(vector_results, fts_results)\n",
            " 76%|███████▌  | 167/220 [00:38<00:10,  5.19it/s]/usr/local/lib/python3.10/dist-packages/lancedb/rerankers/cohere.py:88: FutureWarning: promote has been superseded by promote_options='default'.\n",
            "  combined_results = self.merge_results(vector_results, fts_results)\n",
            " 76%|███████▋  | 168/220 [00:38<00:09,  5.44it/s]/usr/local/lib/python3.10/dist-packages/lancedb/rerankers/cohere.py:88: FutureWarning: promote has been superseded by promote_options='default'.\n",
            "  combined_results = self.merge_results(vector_results, fts_results)\n",
            " 77%|███████▋  | 169/220 [00:38<00:10,  4.74it/s]/usr/local/lib/python3.10/dist-packages/lancedb/rerankers/cohere.py:88: FutureWarning: promote has been superseded by promote_options='default'.\n",
            "  combined_results = self.merge_results(vector_results, fts_results)\n",
            " 77%|███████▋  | 170/220 [00:38<00:10,  4.91it/s]/usr/local/lib/python3.10/dist-packages/lancedb/rerankers/cohere.py:88: FutureWarning: promote has been superseded by promote_options='default'.\n",
            "  combined_results = self.merge_results(vector_results, fts_results)\n",
            " 78%|███████▊  | 171/220 [00:39<00:09,  4.96it/s]/usr/local/lib/python3.10/dist-packages/lancedb/rerankers/cohere.py:88: FutureWarning: promote has been superseded by promote_options='default'.\n",
            "  combined_results = self.merge_results(vector_results, fts_results)\n",
            " 78%|███████▊  | 172/220 [00:39<00:09,  4.89it/s]/usr/local/lib/python3.10/dist-packages/lancedb/rerankers/cohere.py:88: FutureWarning: promote has been superseded by promote_options='default'.\n",
            "  combined_results = self.merge_results(vector_results, fts_results)\n",
            " 79%|███████▊  | 173/220 [00:39<00:09,  4.88it/s]/usr/local/lib/python3.10/dist-packages/lancedb/rerankers/cohere.py:88: FutureWarning: promote has been superseded by promote_options='default'.\n",
            "  combined_results = self.merge_results(vector_results, fts_results)\n",
            " 79%|███████▉  | 174/220 [00:39<00:09,  5.05it/s]/usr/local/lib/python3.10/dist-packages/lancedb/rerankers/cohere.py:88: FutureWarning: promote has been superseded by promote_options='default'.\n",
            "  combined_results = self.merge_results(vector_results, fts_results)\n",
            " 80%|███████▉  | 175/220 [00:39<00:08,  5.28it/s]/usr/local/lib/python3.10/dist-packages/lancedb/rerankers/cohere.py:88: FutureWarning: promote has been superseded by promote_options='default'.\n",
            "  combined_results = self.merge_results(vector_results, fts_results)\n",
            " 80%|████████  | 176/220 [00:40<00:08,  5.26it/s]/usr/local/lib/python3.10/dist-packages/lancedb/rerankers/cohere.py:88: FutureWarning: promote has been superseded by promote_options='default'.\n",
            "  combined_results = self.merge_results(vector_results, fts_results)\n",
            " 80%|████████  | 177/220 [00:40<00:07,  5.39it/s]/usr/local/lib/python3.10/dist-packages/lancedb/rerankers/cohere.py:88: FutureWarning: promote has been superseded by promote_options='default'.\n",
            "  combined_results = self.merge_results(vector_results, fts_results)\n",
            " 81%|████████  | 178/220 [00:40<00:07,  5.30it/s]/usr/local/lib/python3.10/dist-packages/lancedb/rerankers/cohere.py:88: FutureWarning: promote has been superseded by promote_options='default'.\n",
            "  combined_results = self.merge_results(vector_results, fts_results)\n",
            " 81%|████████▏ | 179/220 [00:40<00:07,  5.33it/s]/usr/local/lib/python3.10/dist-packages/lancedb/rerankers/cohere.py:88: FutureWarning: promote has been superseded by promote_options='default'.\n",
            "  combined_results = self.merge_results(vector_results, fts_results)\n",
            " 82%|████████▏ | 180/220 [00:40<00:07,  5.54it/s]/usr/local/lib/python3.10/dist-packages/lancedb/rerankers/cohere.py:88: FutureWarning: promote has been superseded by promote_options='default'.\n",
            "  combined_results = self.merge_results(vector_results, fts_results)\n",
            " 82%|████████▏ | 181/220 [00:40<00:07,  5.29it/s]/usr/local/lib/python3.10/dist-packages/lancedb/rerankers/cohere.py:88: FutureWarning: promote has been superseded by promote_options='default'.\n",
            "  combined_results = self.merge_results(vector_results, fts_results)\n",
            " 83%|████████▎ | 182/220 [00:41<00:10,  3.71it/s]/usr/local/lib/python3.10/dist-packages/lancedb/rerankers/cohere.py:88: FutureWarning: promote has been superseded by promote_options='default'.\n",
            "  combined_results = self.merge_results(vector_results, fts_results)\n",
            " 83%|████████▎ | 183/220 [00:41<00:10,  3.60it/s]/usr/local/lib/python3.10/dist-packages/lancedb/rerankers/cohere.py:88: FutureWarning: promote has been superseded by promote_options='default'.\n",
            "  combined_results = self.merge_results(vector_results, fts_results)\n",
            " 84%|████████▎ | 184/220 [00:41<00:09,  3.96it/s]/usr/local/lib/python3.10/dist-packages/lancedb/rerankers/cohere.py:88: FutureWarning: promote has been superseded by promote_options='default'.\n",
            "  combined_results = self.merge_results(vector_results, fts_results)\n",
            " 84%|████████▍ | 185/220 [00:42<00:08,  4.34it/s]/usr/local/lib/python3.10/dist-packages/lancedb/rerankers/cohere.py:88: FutureWarning: promote has been superseded by promote_options='default'.\n",
            "  combined_results = self.merge_results(vector_results, fts_results)\n",
            " 85%|████████▍ | 186/220 [00:42<00:07,  4.62it/s]/usr/local/lib/python3.10/dist-packages/lancedb/rerankers/cohere.py:88: FutureWarning: promote has been superseded by promote_options='default'.\n",
            "  combined_results = self.merge_results(vector_results, fts_results)\n",
            " 85%|████████▌ | 187/220 [00:42<00:06,  4.83it/s]/usr/local/lib/python3.10/dist-packages/lancedb/rerankers/cohere.py:88: FutureWarning: promote has been superseded by promote_options='default'.\n",
            "  combined_results = self.merge_results(vector_results, fts_results)\n",
            " 85%|████████▌ | 188/220 [00:42<00:06,  5.03it/s]/usr/local/lib/python3.10/dist-packages/lancedb/rerankers/cohere.py:88: FutureWarning: promote has been superseded by promote_options='default'.\n",
            "  combined_results = self.merge_results(vector_results, fts_results)\n",
            " 86%|████████▌ | 189/220 [00:42<00:06,  5.12it/s]/usr/local/lib/python3.10/dist-packages/lancedb/rerankers/cohere.py:88: FutureWarning: promote has been superseded by promote_options='default'.\n",
            "  combined_results = self.merge_results(vector_results, fts_results)\n",
            " 86%|████████▋ | 190/220 [00:43<00:05,  5.24it/s]/usr/local/lib/python3.10/dist-packages/lancedb/rerankers/cohere.py:88: FutureWarning: promote has been superseded by promote_options='default'.\n",
            "  combined_results = self.merge_results(vector_results, fts_results)\n",
            " 87%|████████▋ | 191/220 [00:43<00:05,  5.35it/s]/usr/local/lib/python3.10/dist-packages/lancedb/rerankers/cohere.py:88: FutureWarning: promote has been superseded by promote_options='default'.\n",
            "  combined_results = self.merge_results(vector_results, fts_results)\n",
            " 87%|████████▋ | 192/220 [00:43<00:05,  5.22it/s]/usr/local/lib/python3.10/dist-packages/lancedb/rerankers/cohere.py:88: FutureWarning: promote has been superseded by promote_options='default'.\n",
            "  combined_results = self.merge_results(vector_results, fts_results)\n",
            " 88%|████████▊ | 193/220 [00:43<00:05,  5.13it/s]/usr/local/lib/python3.10/dist-packages/lancedb/rerankers/cohere.py:88: FutureWarning: promote has been superseded by promote_options='default'.\n",
            "  combined_results = self.merge_results(vector_results, fts_results)\n",
            " 88%|████████▊ | 194/220 [00:43<00:05,  5.14it/s]/usr/local/lib/python3.10/dist-packages/lancedb/rerankers/cohere.py:88: FutureWarning: promote has been superseded by promote_options='default'.\n",
            "  combined_results = self.merge_results(vector_results, fts_results)\n",
            " 89%|████████▊ | 195/220 [00:44<00:04,  5.11it/s]/usr/local/lib/python3.10/dist-packages/lancedb/rerankers/cohere.py:88: FutureWarning: promote has been superseded by promote_options='default'.\n",
            "  combined_results = self.merge_results(vector_results, fts_results)\n",
            " 89%|████████▉ | 196/220 [00:44<00:04,  5.20it/s]/usr/local/lib/python3.10/dist-packages/lancedb/rerankers/cohere.py:88: FutureWarning: promote has been superseded by promote_options='default'.\n",
            "  combined_results = self.merge_results(vector_results, fts_results)\n",
            " 90%|████████▉ | 197/220 [00:44<00:05,  4.50it/s]/usr/local/lib/python3.10/dist-packages/lancedb/rerankers/cohere.py:88: FutureWarning: promote has been superseded by promote_options='default'.\n",
            "  combined_results = self.merge_results(vector_results, fts_results)\n",
            " 90%|█████████ | 198/220 [00:44<00:04,  4.68it/s]/usr/local/lib/python3.10/dist-packages/lancedb/rerankers/cohere.py:88: FutureWarning: promote has been superseded by promote_options='default'.\n",
            "  combined_results = self.merge_results(vector_results, fts_results)\n",
            " 90%|█████████ | 199/220 [00:44<00:04,  4.97it/s]/usr/local/lib/python3.10/dist-packages/lancedb/rerankers/cohere.py:88: FutureWarning: promote has been superseded by promote_options='default'.\n",
            "  combined_results = self.merge_results(vector_results, fts_results)\n",
            " 91%|█████████ | 200/220 [00:45<00:04,  4.97it/s]/usr/local/lib/python3.10/dist-packages/lancedb/rerankers/cohere.py:88: FutureWarning: promote has been superseded by promote_options='default'.\n",
            "  combined_results = self.merge_results(vector_results, fts_results)\n",
            " 91%|█████████▏| 201/220 [00:45<00:03,  5.19it/s]/usr/local/lib/python3.10/dist-packages/lancedb/rerankers/cohere.py:88: FutureWarning: promote has been superseded by promote_options='default'.\n",
            "  combined_results = self.merge_results(vector_results, fts_results)\n",
            " 92%|█████████▏| 202/220 [00:45<00:03,  5.28it/s]/usr/local/lib/python3.10/dist-packages/lancedb/rerankers/cohere.py:88: FutureWarning: promote has been superseded by promote_options='default'.\n",
            "  combined_results = self.merge_results(vector_results, fts_results)\n",
            " 92%|█████████▏| 203/220 [00:45<00:03,  5.41it/s]/usr/local/lib/python3.10/dist-packages/lancedb/rerankers/cohere.py:88: FutureWarning: promote has been superseded by promote_options='default'.\n",
            "  combined_results = self.merge_results(vector_results, fts_results)\n",
            " 93%|█████████▎| 204/220 [00:45<00:02,  5.50it/s]/usr/local/lib/python3.10/dist-packages/lancedb/rerankers/cohere.py:88: FutureWarning: promote has been superseded by promote_options='default'.\n",
            "  combined_results = self.merge_results(vector_results, fts_results)\n",
            " 93%|█████████▎| 205/220 [00:45<00:02,  5.49it/s]/usr/local/lib/python3.10/dist-packages/lancedb/rerankers/cohere.py:88: FutureWarning: promote has been superseded by promote_options='default'.\n",
            "  combined_results = self.merge_results(vector_results, fts_results)\n",
            " 94%|█████████▎| 206/220 [00:46<00:02,  5.54it/s]/usr/local/lib/python3.10/dist-packages/lancedb/rerankers/cohere.py:88: FutureWarning: promote has been superseded by promote_options='default'.\n",
            "  combined_results = self.merge_results(vector_results, fts_results)\n",
            " 94%|█████████▍| 207/220 [00:46<00:02,  5.61it/s]/usr/local/lib/python3.10/dist-packages/lancedb/rerankers/cohere.py:88: FutureWarning: promote has been superseded by promote_options='default'.\n",
            "  combined_results = self.merge_results(vector_results, fts_results)\n",
            " 95%|█████████▍| 208/220 [00:46<00:02,  5.52it/s]/usr/local/lib/python3.10/dist-packages/lancedb/rerankers/cohere.py:88: FutureWarning: promote has been superseded by promote_options='default'.\n",
            "  combined_results = self.merge_results(vector_results, fts_results)\n",
            " 95%|█████████▌| 209/220 [00:46<00:02,  5.36it/s]/usr/local/lib/python3.10/dist-packages/lancedb/rerankers/cohere.py:88: FutureWarning: promote has been superseded by promote_options='default'.\n",
            "  combined_results = self.merge_results(vector_results, fts_results)\n",
            " 95%|█████████▌| 210/220 [00:46<00:01,  5.34it/s]/usr/local/lib/python3.10/dist-packages/lancedb/rerankers/cohere.py:88: FutureWarning: promote has been superseded by promote_options='default'.\n",
            "  combined_results = self.merge_results(vector_results, fts_results)\n",
            " 96%|█████████▌| 211/220 [00:47<00:01,  5.33it/s]/usr/local/lib/python3.10/dist-packages/lancedb/rerankers/cohere.py:88: FutureWarning: promote has been superseded by promote_options='default'.\n",
            "  combined_results = self.merge_results(vector_results, fts_results)\n",
            " 96%|█████████▋| 212/220 [00:47<00:01,  5.07it/s]/usr/local/lib/python3.10/dist-packages/lancedb/rerankers/cohere.py:88: FutureWarning: promote has been superseded by promote_options='default'.\n",
            "  combined_results = self.merge_results(vector_results, fts_results)\n",
            " 97%|█████████▋| 213/220 [00:47<00:01,  4.92it/s]/usr/local/lib/python3.10/dist-packages/lancedb/rerankers/cohere.py:88: FutureWarning: promote has been superseded by promote_options='default'.\n",
            "  combined_results = self.merge_results(vector_results, fts_results)\n",
            " 97%|█████████▋| 214/220 [00:47<00:01,  4.88it/s]/usr/local/lib/python3.10/dist-packages/lancedb/rerankers/cohere.py:88: FutureWarning: promote has been superseded by promote_options='default'.\n",
            "  combined_results = self.merge_results(vector_results, fts_results)\n",
            " 98%|█████████▊| 215/220 [00:47<00:01,  4.84it/s]/usr/local/lib/python3.10/dist-packages/lancedb/rerankers/cohere.py:88: FutureWarning: promote has been superseded by promote_options='default'.\n",
            "  combined_results = self.merge_results(vector_results, fts_results)\n",
            " 98%|█████████▊| 216/220 [00:48<00:00,  4.74it/s]/usr/local/lib/python3.10/dist-packages/lancedb/rerankers/cohere.py:88: FutureWarning: promote has been superseded by promote_options='default'.\n",
            "  combined_results = self.merge_results(vector_results, fts_results)\n",
            " 99%|█████████▊| 217/220 [00:48<00:00,  4.59it/s]/usr/local/lib/python3.10/dist-packages/lancedb/rerankers/cohere.py:88: FutureWarning: promote has been superseded by promote_options='default'.\n",
            "  combined_results = self.merge_results(vector_results, fts_results)\n",
            " 99%|█████████▉| 218/220 [00:48<00:00,  4.75it/s]/usr/local/lib/python3.10/dist-packages/lancedb/rerankers/cohere.py:88: FutureWarning: promote has been superseded by promote_options='default'.\n",
            "  combined_results = self.merge_results(vector_results, fts_results)\n",
            "100%|█████████▉| 219/220 [00:48<00:00,  4.64it/s]/usr/local/lib/python3.10/dist-packages/lancedb/rerankers/cohere.py:88: FutureWarning: promote has been superseded by promote_options='default'.\n",
            "  combined_results = self.merge_results(vector_results, fts_results)\n",
            "100%|██████████| 220/220 [00:48<00:00,  4.49it/s]\n",
            "INFO:lancedb:Hit rate for hybrid: 0.7727272727272727\n"
          ]
        },
        {
          "name": "stdout",
          "output_type": "stream",
          "text": [
            "Hit rate for hybrid: 0.7727272727272727\n",
            "vector=0.6727272727272727 fts=0.5954545454545455 rerank_vector=0.740909090909091 rerank_fts=0.6727272727272727 hybrid=0.7727272727272727\n"
          ]
        }
      ],
      "source": [
        "#evaluate_all(\"data_qa.csv\", \"tuned_model/\", linear_combination_reranker)\n",
        "evaluate_all(\"data_qa.csv\", \"tuned_model/\", cohere_reranker)\n",
        "\n"
      ]
    }
  ],
  "metadata": {
    "accelerator": "GPU",
    "colab": {
      "gpuType": "T4",
      "provenance": []
    },
    "kernelspec": {
      "display_name": "Python 3",
      "name": "python3"
    },
    "language_info": {
      "name": "python"
    }
  },
  "nbformat": 4,
  "nbformat_minor": 0
}
