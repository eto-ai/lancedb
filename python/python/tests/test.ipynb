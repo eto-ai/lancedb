{
 "cells": [
  {
   "cell_type": "code",
   "execution_count": 1,
   "metadata": {},
   "outputs": [
    {
     "name": "stderr",
     "output_type": "stream",
     "text": [
      "/Users/raghavdixit/Desktop/open_source/lancedb/python/venv/lib/python3.11/site-packages/tqdm/auto.py:21: TqdmWarning: IProgress not found. Please update jupyter and ipywidgets. See https://ipywidgets.readthedocs.io/en/stable/user_install.html\n",
      "  from .autonotebook import tqdm as notebook_tqdm\n"
     ]
    }
   ],
   "source": [
    "import lancedb\n",
    "from lancedb.pydantic import LanceModel, Vector"
   ]
  },
  {
   "cell_type": "code",
   "execution_count": 5,
   "metadata": {},
   "outputs": [],
   "source": [
    "! rm -rf /tmp/lancedb"
   ]
  },
  {
   "cell_type": "code",
   "execution_count": 6,
   "metadata": {},
   "outputs": [],
   "source": [
    "tmp_path = \"/tmp/lancedb\""
   ]
  },
  {
   "cell_type": "code",
   "execution_count": 7,
   "metadata": {},
   "outputs": [
    {
     "ename": "NameError",
     "evalue": "name 'LanceModel' is not defined",
     "output_type": "error",
     "traceback": [
      "\u001b[0;31m---------------------------------------------------------------------------\u001b[0m",
      "\u001b[0;31mNameError\u001b[0m                                 Traceback (most recent call last)",
      "Cell \u001b[0;32mIn[7], line 5\u001b[0m\n\u001b[1;32m      2\u001b[0m \u001b[38;5;28;01massert\u001b[39;00m db\u001b[38;5;241m.\u001b[39muri \u001b[38;5;241m==\u001b[39m \u001b[38;5;28mstr\u001b[39m(tmp_path)\n\u001b[1;32m      3\u001b[0m \u001b[38;5;28;01massert\u001b[39;00m db\u001b[38;5;241m.\u001b[39mtable_names() \u001b[38;5;241m==\u001b[39m []\n\u001b[0;32m----> 5\u001b[0m \u001b[38;5;28;01mclass\u001b[39;00m \u001b[38;5;21;01mSimpleModel\u001b[39;00m(\u001b[43mLanceModel\u001b[49m):\n\u001b[1;32m      6\u001b[0m     item: \u001b[38;5;28mstr\u001b[39m\n\u001b[1;32m      7\u001b[0m     price: \u001b[38;5;28mfloat\u001b[39m\n",
      "\u001b[0;31mNameError\u001b[0m: name 'LanceModel' is not defined"
     ]
    }
   ],
   "source": [
    "db = lancedb.connect(tmp_path)\n",
    "assert db.uri == str(tmp_path)\n",
    "assert db.table_names() == []\n",
    "\n",
    "class SimpleModel(LanceModel):\n",
    "    item: str\n",
    "    price: float\n",
    "    vector: Vector(2)\n",
    "\n",
    "table = db.create_table(\n",
    "    \"test\",\n",
    "    data=[\n",
    "        {\"vector\": [3.1, 4.1], \"item\": \"foo\", \"price\": 10.0},\n",
    "        {\"vector\": [5.9, 26.5], \"item\": \"bar\", \"price\": 20.0},\n",
    "    ],\n",
    "    schema=SimpleModel,\n",
    ")\n",
    "try:\n",
    "    table.add(SimpleModel(item=\"baz\", price=30.0, vector=[1.0, 2.0]))\n",
    "except Exception as e:\n",
    "    assert type(e) == ValueError\n",
    "    assert str(e) == \"Cannot add a single LanceModel to a table. Use a list.\"\n",
    "\n",
    "rs = table.search([100, 100]).limit(1).to_pandas()\n",
    "assert len(rs) == 1\n",
    "assert rs[\"item\"].iloc[0] == \"bar\"\n",
    "\n",
    "assert db.table_names() == [\"test\"]\n",
    "assert \"test\" in db\n",
    "assert len(db) == 1\n",
    "\n",
    "assert db.open_table(\"test\").name == db[\"test\"].name"
   ]
  },
  {
   "cell_type": "code",
   "execution_count": null,
   "metadata": {},
   "outputs": [],
   "source": []
  },
  {
   "cell_type": "code",
   "execution_count": null,
   "metadata": {},
   "outputs": [],
   "source": []
  }
 ],
 "metadata": {
  "kernelspec": {
   "display_name": "venv",
   "language": "python",
   "name": "python3"
  },
  "language_info": {
   "codemirror_mode": {
    "name": "ipython",
    "version": 3
   },
   "file_extension": ".py",
   "mimetype": "text/x-python",
   "name": "python",
   "nbconvert_exporter": "python",
   "pygments_lexer": "ipython3",
   "version": "3.11.7"
  }
 },
 "nbformat": 4,
 "nbformat_minor": 2
}
